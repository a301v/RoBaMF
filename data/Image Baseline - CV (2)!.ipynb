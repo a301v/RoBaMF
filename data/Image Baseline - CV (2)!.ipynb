{
 "cells": [
  {
   "cell_type": "code",
   "execution_count": 2,
   "metadata": {
    "colab": {
     "base_uri": "https://localhost:8080/"
    },
    "executionInfo": {
     "elapsed": 2515,
     "status": "ok",
     "timestamp": 1701446581464,
     "user": {
      "displayName": "윤 이상",
      "userId": "05321719341467468761"
     },
     "user_tz": -540
    },
    "id": "dzaJ_dTfhwJS",
    "outputId": "106d5491-2c6e-419c-96e6-d78f07dc276c"
   },
   "outputs": [],
   "source": [
    "from PIL import Image\n",
    "import numpy as np\n",
    "import os\n",
    "import glob\n",
    "import numpy as np\n",
    "import pandas as pd\n",
    "\n",
    "import torch\n",
    "import torchvision\n",
    "from torch.utils.data import Dataset, DataLoader\n",
    "from torchvision import transforms, models\n",
    "import torch.nn as nn\n",
    "import torch.optim as optim\n",
    "from torch.optim.lr_scheduler import ReduceLROnPlateau\n",
    "\n",
    "import openpyxl\n",
    "from tqdm import tqdm\n"
   ]
  },
  {
   "cell_type": "code",
   "execution_count": 3,
   "metadata": {
    "id": "MYEhJrNBix8l"
   },
   "outputs": [
    {
     "data": {
      "text/plain": [
       "'/home2/jh981017/myubai/machinelearning'"
      ]
     },
     "execution_count": 3,
     "metadata": {},
     "output_type": "execute_result"
    }
   ],
   "source": [
    "os.getcwd()"
   ]
  },
  {
   "cell_type": "code",
   "execution_count": 4,
   "metadata": {
    "colab": {
     "base_uri": "https://localhost:8080/"
    },
    "executionInfo": {
     "elapsed": 249,
     "status": "ok",
     "timestamp": 1701446633531,
     "user": {
      "displayName": "윤 이상",
      "userId": "05321719341467468761"
     },
     "user_tz": -540
    },
    "id": "BovY_w2G9aSr",
    "outputId": "51045ab4-8228-4449-fdec-81084f3785aa"
   },
   "outputs": [
    {
     "data": {
      "text/plain": [
       "['/home2/jh981017/myubai/NaverNews/economy',\n",
       " '/home2/jh981017/myubai/NaverNews/life',\n",
       " '/home2/jh981017/myubai/NaverNews/politics',\n",
       " '/home2/jh981017/myubai/NaverNews/science',\n",
       " '/home2/jh981017/myubai/NaverNews/society',\n",
       " '/home2/jh981017/myubai/NaverNews/world']"
      ]
     },
     "execution_count": 4,
     "metadata": {},
     "output_type": "execute_result"
    }
   ],
   "source": [
    "# 각 섹션별 이미지가 담겨 있는 폴더의 경로들을 가져옴\n",
    "\n",
    "section_folders = glob.glob('/home2/jh981017/myubai/NaverNews/*')\n",
    "section_folders"
   ]
  },
  {
   "cell_type": "code",
   "execution_count": 5,
   "metadata": {
    "colab": {
     "base_uri": "https://localhost:8080/"
    },
    "executionInfo": {
     "elapsed": 273,
     "status": "ok",
     "timestamp": 1701446635613,
     "user": {
      "displayName": "윤 이상",
      "userId": "05321719341467468761"
     },
     "user_tz": -540
    },
    "id": "G0flgcKipJMY",
    "outputId": "40ff2290-09fa-4470-bde5-0036b1b92167"
   },
   "outputs": [
    {
     "data": {
      "text/plain": [
       "['economy', 'life', 'politics', 'science', 'society', 'world']"
      ]
     },
     "execution_count": 5,
     "metadata": {},
     "output_type": "execute_result"
    }
   ],
   "source": [
    "root = '/home2/jh981017/myubai/NaverNews'\n",
    "sections = os.listdir(root)\n",
    "sections"
   ]
  },
  {
   "cell_type": "code",
   "execution_count": 6,
   "metadata": {
    "colab": {
     "base_uri": "https://localhost:8080/"
    },
    "executionInfo": {
     "elapsed": 326,
     "status": "ok",
     "timestamp": 1701446638916,
     "user": {
      "displayName": "윤 이상",
      "userId": "05321719341467468761"
     },
     "user_tz": -540
    },
    "id": "eP9A9xZTqRrd",
    "outputId": "0af13cf6-69c4-493c-dc37-0d5cce7fe858"
   },
   "outputs": [
    {
     "data": {
      "text/plain": [
       "['/home2/jh981017/myubai/NaverNews/economy/economytext1.xlsx',\n",
       " '/home2/jh981017/myubai/NaverNews/life/lifetext1.xlsx',\n",
       " '/home2/jh981017/myubai/NaverNews/politics/politicstext1.xlsx',\n",
       " '/home2/jh981017/myubai/NaverNews/science/sciencetext1.xlsx',\n",
       " '/home2/jh981017/myubai/NaverNews/society/societytext1.xlsx',\n",
       " '/home2/jh981017/myubai/NaverNews/world/worldtext1.xlsx']"
      ]
     },
     "execution_count": 6,
     "metadata": {},
     "output_type": "execute_result"
    }
   ],
   "source": [
    "text_paths = []\n",
    "for folder, section in zip(section_folders, sections):\n",
    "  text_path = folder + '/' + section + 'text1' + '.xlsx'\n",
    "  text_paths.append(text_path)\n",
    "\n",
    "text_paths"
   ]
  },
  {
   "cell_type": "code",
   "execution_count": 7,
   "metadata": {
    "executionInfo": {
     "elapsed": 5005,
     "status": "ok",
     "timestamp": 1701446651341,
     "user": {
      "displayName": "윤 이상",
      "userId": "05321719341467468761"
     },
     "user_tz": -540
    },
    "id": "6ulvL9nY-ODl"
   },
   "outputs": [],
   "source": [
    "# 각 섹션별 사용할 데이터의 인덱스가 담겨 있는 딕셔너리\n",
    "\n",
    "idx_dictionary = {}\n",
    "\n",
    "for section, text_path in zip(sections, text_paths):\n",
    "  text = pd.read_excel(text_path)\n",
    "  idx_section = list(text['idx'])\n",
    "\n",
    "  idx_dictionary[section] = idx_section"
   ]
  },
  {
   "cell_type": "code",
   "execution_count": 8,
   "metadata": {
    "colab": {
     "base_uri": "https://localhost:8080/"
    },
    "executionInfo": {
     "elapsed": 256,
     "status": "ok",
     "timestamp": 1701446656369,
     "user": {
      "displayName": "윤 이상",
      "userId": "05321719341467468761"
     },
     "user_tz": -540
    },
    "id": "UYieNXYVr-tG",
    "outputId": "1040873b-0a0e-492e-d7f5-13cfec466cea"
   },
   "outputs": [
    {
     "data": {
      "text/plain": [
       "1888"
      ]
     },
     "execution_count": 8,
     "metadata": {},
     "output_type": "execute_result"
    }
   ],
   "source": [
    "len(idx_dictionary['economy'])"
   ]
  },
  {
   "cell_type": "code",
   "execution_count": 9,
   "metadata": {
    "executionInfo": {
     "elapsed": 257,
     "status": "ok",
     "timestamp": 1701447017654,
     "user": {
      "displayName": "윤 이상",
      "userId": "05321719341467468761"
     },
     "user_tz": -540
    },
    "id": "ljlhe9aJw1mX"
   },
   "outputs": [],
   "source": [
    "np.random.seed(602)\n",
    "\n",
    "cv_idx_dictionary = {}\n",
    "\n",
    "for section in sections:\n",
    "  cv_idx_section = list(np.random.choice(idx_dictionary[section], size = 1200, replace = False))\n",
    "  cv_idx_section.sort()\n",
    "\n",
    "  cv_idx_dictionary[section] = cv_idx_section"
   ]
  },
  {
   "cell_type": "code",
   "execution_count": 10,
   "metadata": {
    "colab": {
     "base_uri": "https://localhost:8080/"
    },
    "executionInfo": {
     "elapsed": 3,
     "status": "ok",
     "timestamp": 1701447018460,
     "user": {
      "displayName": "윤 이상",
      "userId": "05321719341467468761"
     },
     "user_tz": -540
    },
    "id": "2jqxUhiCw2aM",
    "outputId": "922438e3-1bc8-4ea0-f7c4-f9fde95760a0"
   },
   "outputs": [
    {
     "data": {
      "text/plain": [
       "1200"
      ]
     },
     "execution_count": 10,
     "metadata": {},
     "output_type": "execute_result"
    }
   ],
   "source": [
    "len(cv_idx_dictionary['economy'])"
   ]
  },
  {
   "cell_type": "code",
   "execution_count": 11,
   "metadata": {
    "executionInfo": {
     "elapsed": 1103,
     "status": "ok",
     "timestamp": 1701447020476,
     "user": {
      "displayName": "윤 이상",
      "userId": "05321719341467468761"
     },
     "user_tz": -540
    },
    "id": "yUGeb_ucw6Cf"
   },
   "outputs": [],
   "source": [
    "new_idx_dictionary = {}\n",
    "\n",
    "for section in sections:\n",
    "  new_idx_section = [i for i in idx_dictionary[section] if i not in cv_idx_dictionary[section]]\n",
    "\n",
    "  new_idx_dictionary[section] = new_idx_section"
   ]
  },
  {
   "cell_type": "code",
   "execution_count": 12,
   "metadata": {
    "colab": {
     "base_uri": "https://localhost:8080/"
    },
    "executionInfo": {
     "elapsed": 3,
     "status": "ok",
     "timestamp": 1701447020476,
     "user": {
      "displayName": "윤 이상",
      "userId": "05321719341467468761"
     },
     "user_tz": -540
    },
    "id": "RbqYyKjJxgQk",
    "outputId": "a777db52-e14b-4bc9-deb1-f2b39be5a886"
   },
   "outputs": [
    {
     "data": {
      "text/plain": [
       "688"
      ]
     },
     "execution_count": 12,
     "metadata": {},
     "output_type": "execute_result"
    }
   ],
   "source": [
    "len(new_idx_dictionary['economy'])"
   ]
  },
  {
   "cell_type": "code",
   "execution_count": 13,
   "metadata": {
    "colab": {
     "base_uri": "https://localhost:8080/"
    },
    "executionInfo": {
     "elapsed": 290,
     "status": "ok",
     "timestamp": 1701448714208,
     "user": {
      "displayName": "윤 이상",
      "userId": "05321719341467468761"
     },
     "user_tz": -540
    },
    "id": "XoMTszUQJzpS",
    "outputId": "c3731c25-0bd7-4c12-9edd-623a0d844e65"
   },
   "outputs": [
    {
     "data": {
      "text/plain": [
       "1888"
      ]
     },
     "execution_count": 13,
     "metadata": {},
     "output_type": "execute_result"
    }
   ],
   "source": [
    "len(idx_dictionary['economy'])"
   ]
  },
  {
   "cell_type": "code",
   "execution_count": 14,
   "metadata": {
    "id": "X8-35_AsDAxw"
   },
   "outputs": [],
   "source": [
    "# 라벨에 해당하는 y값 매칭하기 (0 ~ 5)\n",
    "\n",
    "# label_to_y = {section : idx for idx, section in enumerate(sections)}\n",
    "# label_to_y"
   ]
  },
  {
   "cell_type": "code",
   "execution_count": 15,
   "metadata": {
    "colab": {
     "base_uri": "https://localhost:8080/"
    },
    "executionInfo": {
     "elapsed": 269,
     "status": "ok",
     "timestamp": 1701447512167,
     "user": {
      "displayName": "윤 이상",
      "userId": "05321719341467468761"
     },
     "user_tz": -540
    },
    "id": "3qF4WHqB0_Yo",
    "outputId": "300f5932-bb38-4789-c0be-89b0f1c200be"
   },
   "outputs": [
    {
     "data": {
      "text/plain": [
       "{'politics': 0,\n",
       " 'society': 1,\n",
       " 'science': 2,\n",
       " 'life': 3,\n",
       " 'world': 4,\n",
       " 'economy': 5}"
      ]
     },
     "execution_count": 15,
     "metadata": {},
     "output_type": "execute_result"
    }
   ],
   "source": [
    "label_to_y = {\n",
    "    'politics': 0,\n",
    "    'society': 1,\n",
    "    'science': 2,\n",
    "    'life': 3,\n",
    "    'world': 4,\n",
    "    'economy': 5\n",
    "}\n",
    "label_to_y"
   ]
  },
  {
   "cell_type": "code",
   "execution_count": 16,
   "metadata": {
    "executionInfo": {
     "elapsed": 293,
     "status": "ok",
     "timestamp": 1701447515055,
     "user": {
      "displayName": "윤 이상",
      "userId": "05321719341467468761"
     },
     "user_tz": -540
    },
    "id": "RTketT2a9kr7"
   },
   "outputs": [],
   "source": [
    "# 분석에 사용할 모든 데이터들의 경로를 불러온다.\n",
    "\n",
    "cv_data = []\n",
    "new_data = []\n",
    "\n",
    "for section_folder in section_folders:\n",
    "\n",
    "  # 각 섹션 이름 가져와서 인덱스랑 합하기\n",
    "  section = os.path.basename(section_folder)\n",
    "\n",
    "  cv_indicies = cv_idx_dictionary[section]\n",
    "  new_indicies = new_idx_dictionary[section]\n",
    "\n",
    "  y = label_to_y[section]\n",
    "\n",
    "\n",
    "  for cv_idx in cv_indicies:\n",
    "    imgname = section + str(cv_idx) + '.jpg'\n",
    "    imgpath = os.path.join(section_folder, imgname)\n",
    "\n",
    "    data = []\n",
    "    data.append(cv_idx)\n",
    "    data.append(imgpath)\n",
    "    data.append(y)\n",
    "\n",
    "    cv_data.append(data)\n",
    "\n",
    "\n",
    "  for new_idx in new_idx_dictionary[section]:\n",
    "    imgname = section + str(new_idx) + '.jpg'\n",
    "    imgpath = os.path.join(section_folder, imgname)\n",
    "\n",
    "    data = []\n",
    "    data.append(cv_idx)\n",
    "    data.append(imgpath)\n",
    "    data.append(y)\n",
    "\n",
    "    new_data.append(data)"
   ]
  },
  {
   "cell_type": "code",
   "execution_count": 17,
   "metadata": {
    "colab": {
     "base_uri": "https://localhost:8080/"
    },
    "executionInfo": {
     "elapsed": 4,
     "status": "ok",
     "timestamp": 1701447522052,
     "user": {
      "displayName": "윤 이상",
      "userId": "05321719341467468761"
     },
     "user_tz": -540
    },
    "id": "dxl2yvnRJEse",
    "outputId": "3ee079e9-64b1-4c51-c42e-dfa3389351f5"
   },
   "outputs": [
    {
     "data": {
      "text/plain": [
       "[[3, '/home2/jh981017/myubai/NaverNews/economy/economy3.jpg', 5],\n",
       " [6, '/home2/jh981017/myubai/NaverNews/economy/economy6.jpg', 5],\n",
       " [9, '/home2/jh981017/myubai/NaverNews/economy/economy9.jpg', 5],\n",
       " [13, '/home2/jh981017/myubai/NaverNews/economy/economy13.jpg', 5],\n",
       " [16, '/home2/jh981017/myubai/NaverNews/economy/economy16.jpg', 5],\n",
       " [17, '/home2/jh981017/myubai/NaverNews/economy/economy17.jpg', 5],\n",
       " [18, '/home2/jh981017/myubai/NaverNews/economy/economy18.jpg', 5],\n",
       " [22, '/home2/jh981017/myubai/NaverNews/economy/economy22.jpg', 5],\n",
       " [23, '/home2/jh981017/myubai/NaverNews/economy/economy23.jpg', 5],\n",
       " [25, '/home2/jh981017/myubai/NaverNews/economy/economy25.jpg', 5]]"
      ]
     },
     "execution_count": 17,
     "metadata": {},
     "output_type": "execute_result"
    }
   ],
   "source": [
    "cv_data[0:10]"
   ]
  },
  {
   "cell_type": "code",
   "execution_count": 18,
   "metadata": {
    "colab": {
     "base_uri": "https://localhost:8080/"
    },
    "executionInfo": {
     "elapsed": 282,
     "status": "ok",
     "timestamp": 1701447535797,
     "user": {
      "displayName": "윤 이상",
      "userId": "05321719341467468761"
     },
     "user_tz": -540
    },
    "id": "tBk6VhMiJXu6",
    "outputId": "353358c8-e293-405d-eb08-42e11ac6cd53"
   },
   "outputs": [
    {
     "data": {
      "text/plain": [
       "7200"
      ]
     },
     "execution_count": 18,
     "metadata": {},
     "output_type": "execute_result"
    }
   ],
   "source": [
    "len(cv_data)"
   ]
  },
  {
   "cell_type": "code",
   "execution_count": 19,
   "metadata": {
    "colab": {
     "base_uri": "https://localhost:8080/"
    },
    "executionInfo": {
     "elapsed": 3,
     "status": "ok",
     "timestamp": 1701450529616,
     "user": {
      "displayName": "윤 이상",
      "userId": "05321719341467468761"
     },
     "user_tz": -540
    },
    "id": "Zz_CIeCyWp_F",
    "outputId": "be96d625-1826-4d4c-f3c1-77e56cf16d1a"
   },
   "outputs": [
    {
     "data": {
      "text/plain": [
       "5720"
      ]
     },
     "execution_count": 19,
     "metadata": {},
     "output_type": "execute_result"
    }
   ],
   "source": [
    "len(new_data)"
   ]
  },
  {
   "cell_type": "code",
   "execution_count": null,
   "metadata": {
    "id": "3ikTfOnmJsn2"
   },
   "outputs": [],
   "source": []
  },
  {
   "cell_type": "code",
   "execution_count": null,
   "metadata": {
    "id": "e9Z6cSq8jq5_"
   },
   "outputs": [],
   "source": []
  },
  {
   "cell_type": "code",
   "execution_count": 20,
   "metadata": {
    "executionInfo": {
     "elapsed": 3,
     "status": "ok",
     "timestamp": 1701448067059,
     "user": {
      "displayName": "윤 이상",
      "userId": "05321719341467468761"
     },
     "user_tz": -540
    },
    "id": "6nnPENW3JD84"
   },
   "outputs": [],
   "source": [
    "# 이미지 데이터셋 만들기\n",
    "\n",
    "class RoBaMFImageDataset(Dataset):\n",
    "  def __init__(self, dataset, img_idx = 1, label_idx = 2, transform = None):\n",
    "    super(RoBaMFImageDataset, self).__init__()\n",
    "\n",
    "    self.imgpaths = [i[img_idx] for i in dataset]\n",
    "    self.y = [np.int32(i[label_idx]) for i in dataset]\n",
    "    self.transform = transform\n",
    "\n",
    "\n",
    "  def __len__(self):\n",
    "\n",
    "    return len(self.imgpaths)\n",
    "\n",
    "\n",
    "  def __getitem__(self, idx):\n",
    "    imgpath = self.imgpaths[idx]\n",
    "\n",
    "    img = Image.open(imgpath).convert('RGB')\n",
    "    img = self.transform(img)\n",
    "\n",
    "    target = self.y[idx]\n",
    "\n",
    "    return img, target"
   ]
  },
  {
   "cell_type": "code",
   "execution_count": 21,
   "metadata": {
    "executionInfo": {
     "elapsed": 275,
     "status": "ok",
     "timestamp": 1701448081365,
     "user": {
      "displayName": "윤 이상",
      "userId": "05321719341467468761"
     },
     "user_tz": -540
    },
    "id": "rxNeP20SLDlQ"
   },
   "outputs": [],
   "source": [
    "# 사용할 모형에 맞게 이미지를 transform & normalize\n",
    "\n",
    "train_transform = transforms.Compose([\n",
    "    transforms.Resize((224, 224)),\n",
    "    #transforms.Resize(256),\n",
    "    #transforms.CenterCrop((224, 224)),\n",
    "    transforms.ToTensor(),\n",
    "    transforms.Normalize(mean=[0.485, 0.456, 0.406], std=[0.229, 0.224, 0.225]),\n",
    "])\n",
    "\n",
    "test_transform = transforms.Compose([\n",
    "    transforms.Resize((224, 224)),\n",
    "    #transforms.Resize(256),\n",
    "    #transforms.CenterCrop((224, 224)),\n",
    "    transforms.ToTensor(),\n",
    "    transforms.Normalize(mean=[0.485, 0.456, 0.406], std=[0.229, 0.224, 0.225]),\n",
    "])"
   ]
  },
  {
   "cell_type": "code",
   "execution_count": 22,
   "metadata": {
    "executionInfo": {
     "elapsed": 263,
     "status": "ok",
     "timestamp": 1701447744898,
     "user": {
      "displayName": "윤 이상",
      "userId": "05321719341467468761"
     },
     "user_tz": -540
    },
    "id": "p2ng_itqWyZw"
   },
   "outputs": [],
   "source": [
    "class ImageModel(nn.Module):\n",
    "  def __init__(self, mobilenetv2):\n",
    "    super(ImageModel, self).__init__()\n",
    "\n",
    "    self.mobilenetv2 = mobilenetv2\n",
    "\n",
    "    self.fc = nn.Sequential(\n",
    "              nn.Linear(1000, 1024),\n",
    "              nn.ReLU(),\n",
    "              nn.Linear(1024, 1024),\n",
    "              nn.ReLU(),\n",
    "              nn.Linear(1024, 6),\n",
    "              nn.Softmax(1)\n",
    "              )\n",
    "\n",
    "\n",
    "  def forward(self, img):\n",
    "    x = self.mobilenetv2(img)\n",
    "    x = self.fc(x)\n",
    "\n",
    "    return x"
   ]
  },
  {
   "cell_type": "code",
   "execution_count": null,
   "metadata": {
    "id": "9HkCz4Hrqusm"
   },
   "outputs": [],
   "source": []
  },
  {
   "cell_type": "code",
   "execution_count": 23,
   "metadata": {
    "executionInfo": {
     "elapsed": 2,
     "status": "ok",
     "timestamp": 1701448515430,
     "user": {
      "displayName": "윤 이상",
      "userId": "05321719341467468761"
     },
     "user_tz": -540
    },
    "id": "wloTpogYMpNv"
   },
   "outputs": [],
   "source": [
    "# 모형의 가중치 업데이트를 위한 모듈\n",
    "\n",
    "def model_train(model, data_loader, loss_fn, optimizer, device):\n",
    "\n",
    "  model.train()\n",
    "  size = len(data_loader.dataset)\n",
    "\n",
    "  progress_bar = tqdm(data_loader)\n",
    "\n",
    "  corr = 0\n",
    "  running_loss = 0\n",
    "\n",
    "  for X, y in progress_bar:\n",
    "    X, y = X.to(device), y.long().to(device)\n",
    "\n",
    "    # 예측하고 크로스엔트로피 계산\n",
    "    pred = model(X)\n",
    "    loss = loss_fn(pred, y)\n",
    "\n",
    "    # 그래티언트 초기화\n",
    "    optimizer.zero_grad()\n",
    "\n",
    "    # 역전파 알고리즘에 의한 그래디언트 계산\n",
    "    loss.backward()\n",
    "\n",
    "    # 그래디언트를 이용한 업데이트\n",
    "    optimizer.step()\n",
    "\n",
    "    # accuracy 계산을 위한 정답 개수 계산\n",
    "    corr += (pred.argmax(1) == y).type(torch.float).sum().item()\n",
    "\n",
    "    # 평균 크로스엔트로피 계산을 위한 합\n",
    "    running_loss += loss.item() * X.size(0)\n",
    "\n",
    "\n",
    "  # accuracy\n",
    "  accuracy = corr / size\n",
    "  running_loss = running_loss / size\n",
    "\n",
    "  return accuracy, running_loss"
   ]
  },
  {
   "cell_type": "code",
   "execution_count": 24,
   "metadata": {
    "executionInfo": {
     "elapsed": 2,
     "status": "ok",
     "timestamp": 1701448516981,
     "user": {
      "displayName": "윤 이상",
      "userId": "05321719341467468761"
     },
     "user_tz": -540
    },
    "id": "J-p9BLC9OA-n"
   },
   "outputs": [],
   "source": [
    "# 모형 평가를 위한 모듈\n",
    "\n",
    "def model_evaluate(model, data_loader, loss_fn, device):\n",
    "\n",
    "  size = len(data_loader.dataset)\n",
    "  model.eval()\n",
    "\n",
    "  with torch.no_grad():\n",
    "    corr = 0\n",
    "    running_loss = 0\n",
    "\n",
    "    for X, y in data_loader:\n",
    "      X, y = X.to(device), y.long().to(device)\n",
    "\n",
    "\n",
    "      # 예측 확률 계산\n",
    "      pred = model(X)\n",
    "      loss = loss_fn(pred, y)\n",
    "\n",
    "      # accuracy 계산을 위한 정답 개수 계산\n",
    "      corr += (pred.argmax(1) == y).type(torch.float).sum().item()\n",
    "\n",
    "      # 평균 크로스엔트로피 계산을 위한 합\n",
    "      running_loss += loss.item() * X.size(0)\n",
    "\n",
    "  # accuracy\n",
    "  accuracy = corr / size\n",
    "  running_loss = running_loss / size\n",
    "\n",
    "  return accuracy, running_loss"
   ]
  },
  {
   "cell_type": "markdown",
   "metadata": {
    "id": "FqkpToFrjrm9"
   },
   "source": [
    "Stratified K-fold CV"
   ]
  },
  {
   "cell_type": "code",
   "execution_count": 25,
   "metadata": {
    "id": "iB1IMu6tUzk4"
   },
   "outputs": [],
   "source": [
    "#lr=0.2, patence=3, factor=0.3/ adamw, rmsprop/ lr한번 조절해보자!/loss fuction도..? 0.25앵간했음\n",
    "#RBGA로 안나타나는 png파일을\n",
    "#from PIL import Image\n",
    "\n",
    "#image = Image.open('path_to_your_image.png')\n",
    "#image = image.convert('RGBA')\n",
    "#위 방식처럼 rgba방식으로 표현가능"
   ]
  },
  {
   "cell_type": "code",
   "execution_count": null,
   "metadata": {
    "id": "_q_8imGsrENf"
   },
   "outputs": [],
   "source": []
  },
  {
   "cell_type": "code",
   "execution_count": 26,
   "metadata": {
    "executionInfo": {
     "elapsed": 261,
     "status": "ok",
     "timestamp": 1701448519655,
     "user": {
      "displayName": "윤 이상",
      "userId": "05321719341467468761"
     },
     "user_tz": -540
    },
    "id": "YK4lf5jEjuy_"
   },
   "outputs": [],
   "source": [
    "from sklearn.model_selection import StratifiedKFold\n",
    "\n",
    "cv = StratifiedKFold(n_splits = 5, shuffle = True, random_state = 602)"
   ]
  },
  {
   "cell_type": "code",
   "execution_count": 27,
   "metadata": {
    "executionInfo": {
     "elapsed": 391,
     "status": "ok",
     "timestamp": 1701448520410,
     "user": {
      "displayName": "윤 이상",
      "userId": "05321719341467468761"
     },
     "user_tz": -540
    },
    "id": "ocrtlBRW2NLP"
   },
   "outputs": [],
   "source": [
    "device = torch.device(\"cuda:0\" if torch.cuda.is_available() else \"cpu\")"
   ]
  },
  {
   "cell_type": "code",
   "execution_count": null,
   "metadata": {
    "id": "33JfwrYQLbwO"
   },
   "outputs": [],
   "source": []
  },
  {
   "cell_type": "code",
   "execution_count": 28,
   "metadata": {
    "executionInfo": {
     "elapsed": 364,
     "status": "ok",
     "timestamp": 1701448521057,
     "user": {
      "displayName": "윤 이상",
      "userId": "05321719341467468761"
     },
     "user_tz": -540
    },
    "id": "HEgrkHG3MQ9f"
   },
   "outputs": [],
   "source": [
    "df_cv_data = pd.DataFrame(cv_data)\n",
    "df_new_data = pd.DataFrame(new_data)"
   ]
  },
  {
   "cell_type": "code",
   "execution_count": 29,
   "metadata": {
    "executionInfo": {
     "elapsed": 2,
     "status": "ok",
     "timestamp": 1701448521340,
     "user": {
      "displayName": "윤 이상",
      "userId": "05321719341467468761"
     },
     "user_tz": -540
    },
    "id": "KEMHCbwvMem4"
   },
   "outputs": [],
   "source": [
    "list_train_idx = []\n",
    "list_test_idx = []\n",
    "\n",
    "for train_idx, test_idx in cv.split(df_cv_data[1], df_cv_data[2]):\n",
    "  list_train_idx.append(train_idx)\n",
    "  list_test_idx.append(test_idx)"
   ]
  },
  {
   "cell_type": "code",
   "execution_count": 51,
   "metadata": {
    "id": "5_gR0_zvqPZ4"
   },
   "outputs": [
    {
     "name": "stderr",
     "output_type": "stream",
     "text": [
      " 43%|████▎     | 78/180 [00:18<00:24,  4.23it/s]/opt/conda/lib/python3.8/site-packages/PIL/Image.py:962: UserWarning: Palette images with Transparency expressed in bytes should be converted to RGBA images\n",
      "  warnings.warn(\n",
      "100%|██████████| 180/180 [00:43<00:00,  4.14it/s]\n"
     ]
    },
    {
     "name": "stdout",
     "output_type": "stream",
     "text": [
      "fold 1,  epoch 01 -------------------------------------------------- \n",
      "\n",
      "            train_accuracy: 0.21510, train_loss: 1.78646, val_accuracy: 0.23125, val_loss: 1.78036 \n",
      "\n",
      "\n"
     ]
    },
    {
     "name": "stderr",
     "output_type": "stream",
     "text": [
      "100%|██████████| 180/180 [00:41<00:00,  4.33it/s]\n"
     ]
    },
    {
     "name": "stdout",
     "output_type": "stream",
     "text": [
      "fold 1,  epoch 02 -------------------------------------------------- \n",
      "\n",
      "            train_accuracy: 0.25729, train_loss: 1.76511, val_accuracy: 0.24931, val_loss: 1.75890 \n",
      "\n",
      "\n"
     ]
    },
    {
     "name": "stderr",
     "output_type": "stream",
     "text": [
      "100%|██████████| 180/180 [00:41<00:00,  4.34it/s]\n"
     ]
    },
    {
     "name": "stdout",
     "output_type": "stream",
     "text": [
      "fold 1,  epoch 03 -------------------------------------------------- \n",
      "\n",
      "            train_accuracy: 0.28212, train_loss: 1.74051, val_accuracy: 0.25903, val_loss: 1.74003 \n",
      "\n",
      "\n"
     ]
    },
    {
     "name": "stderr",
     "output_type": "stream",
     "text": [
      "100%|██████████| 180/180 [00:41<00:00,  4.34it/s]\n"
     ]
    },
    {
     "name": "stdout",
     "output_type": "stream",
     "text": [
      "fold 1,  epoch 04 -------------------------------------------------- \n",
      "\n",
      "            train_accuracy: 0.30990, train_loss: 1.71823, val_accuracy: 0.28542, val_loss: 1.72380 \n",
      "\n",
      "\n"
     ]
    },
    {
     "name": "stderr",
     "output_type": "stream",
     "text": [
      "100%|██████████| 180/180 [00:41<00:00,  4.34it/s]\n"
     ]
    },
    {
     "name": "stdout",
     "output_type": "stream",
     "text": [
      "fold 1,  epoch 05 -------------------------------------------------- \n",
      "\n",
      "            train_accuracy: 0.33264, train_loss: 1.69942, val_accuracy: 0.31389, val_loss: 1.70782 \n",
      "\n",
      "\n"
     ]
    },
    {
     "name": "stderr",
     "output_type": "stream",
     "text": [
      "100%|██████████| 180/180 [00:41<00:00,  4.33it/s]\n"
     ]
    },
    {
     "name": "stdout",
     "output_type": "stream",
     "text": [
      "fold 1,  epoch 06 -------------------------------------------------- \n",
      "\n",
      "            train_accuracy: 0.35677, train_loss: 1.68178, val_accuracy: 0.32708, val_loss: 1.69379 \n",
      "\n",
      "\n"
     ]
    },
    {
     "name": "stderr",
     "output_type": "stream",
     "text": [
      "100%|██████████| 180/180 [00:41<00:00,  4.34it/s]\n"
     ]
    },
    {
     "name": "stdout",
     "output_type": "stream",
     "text": [
      "fold 1,  epoch 07 -------------------------------------------------- \n",
      "\n",
      "            train_accuracy: 0.37622, train_loss: 1.66391, val_accuracy: 0.34722, val_loss: 1.68115 \n",
      "\n",
      "\n"
     ]
    },
    {
     "name": "stderr",
     "output_type": "stream",
     "text": [
      "100%|██████████| 180/180 [00:41<00:00,  4.33it/s]\n"
     ]
    },
    {
     "name": "stdout",
     "output_type": "stream",
     "text": [
      "fold 1,  epoch 08 -------------------------------------------------- \n",
      "\n",
      "            train_accuracy: 0.39149, train_loss: 1.64672, val_accuracy: 0.36389, val_loss: 1.66944 \n",
      "\n",
      "\n"
     ]
    },
    {
     "name": "stderr",
     "output_type": "stream",
     "text": [
      "100%|██████████| 180/180 [00:41<00:00,  4.33it/s]\n"
     ]
    },
    {
     "name": "stdout",
     "output_type": "stream",
     "text": [
      "fold 1,  epoch 09 -------------------------------------------------- \n",
      "\n",
      "            train_accuracy: 0.41302, train_loss: 1.62785, val_accuracy: 0.36944, val_loss: 1.65768 \n",
      "\n",
      "\n"
     ]
    },
    {
     "name": "stderr",
     "output_type": "stream",
     "text": [
      "100%|██████████| 180/180 [00:41<00:00,  4.35it/s]\n"
     ]
    },
    {
     "name": "stdout",
     "output_type": "stream",
     "text": [
      "fold 1,  epoch 10 -------------------------------------------------- \n",
      "\n",
      "            train_accuracy: 0.42569, train_loss: 1.61349, val_accuracy: 0.38125, val_loss: 1.64639 \n",
      "\n",
      "\n",
      "=========================================================================== \n",
      "\n",
      "              fold 1  Ended.  \n",
      "\n",
      "              =========================================================================== \n",
      " \n"
     ]
    },
    {
     "name": "stderr",
     "output_type": "stream",
     "text": [
      "100%|██████████| 180/180 [00:40<00:00,  4.40it/s]\n"
     ]
    },
    {
     "name": "stdout",
     "output_type": "stream",
     "text": [
      "fold 2,  epoch 01 -------------------------------------------------- \n",
      "\n",
      "            train_accuracy: 0.20451, train_loss: 1.78694, val_accuracy: 0.24792, val_loss: 1.78026 \n",
      "\n",
      "\n"
     ]
    },
    {
     "name": "stderr",
     "output_type": "stream",
     "text": [
      "100%|██████████| 180/180 [00:41<00:00,  4.38it/s]\n"
     ]
    },
    {
     "name": "stdout",
     "output_type": "stream",
     "text": [
      "fold 2,  epoch 02 -------------------------------------------------- \n",
      "\n",
      "            train_accuracy: 0.28368, train_loss: 1.76861, val_accuracy: 0.27778, val_loss: 1.75800 \n",
      "\n",
      "\n"
     ]
    },
    {
     "name": "stderr",
     "output_type": "stream",
     "text": [
      "100%|██████████| 180/180 [00:41<00:00,  4.37it/s]\n"
     ]
    },
    {
     "name": "stdout",
     "output_type": "stream",
     "text": [
      "fold 2,  epoch 03 -------------------------------------------------- \n",
      "\n",
      "            train_accuracy: 0.30677, train_loss: 1.73779, val_accuracy: 0.28681, val_loss: 1.72999 \n",
      "\n",
      "\n"
     ]
    },
    {
     "name": "stderr",
     "output_type": "stream",
     "text": [
      "100%|██████████| 180/180 [00:41<00:00,  4.37it/s]\n"
     ]
    },
    {
     "name": "stdout",
     "output_type": "stream",
     "text": [
      "fold 2,  epoch 04 -------------------------------------------------- \n",
      "\n",
      "            train_accuracy: 0.31788, train_loss: 1.70989, val_accuracy: 0.30556, val_loss: 1.71200 \n",
      "\n",
      "\n"
     ]
    },
    {
     "name": "stderr",
     "output_type": "stream",
     "text": [
      "100%|██████████| 180/180 [00:41<00:00,  4.37it/s]\n"
     ]
    },
    {
     "name": "stdout",
     "output_type": "stream",
     "text": [
      "fold 2,  epoch 05 -------------------------------------------------- \n",
      "\n",
      "            train_accuracy: 0.34965, train_loss: 1.68695, val_accuracy: 0.32083, val_loss: 1.69605 \n",
      "\n",
      "\n"
     ]
    },
    {
     "name": "stderr",
     "output_type": "stream",
     "text": [
      "100%|██████████| 180/180 [00:41<00:00,  4.39it/s]\n"
     ]
    },
    {
     "name": "stdout",
     "output_type": "stream",
     "text": [
      "fold 2,  epoch 06 -------------------------------------------------- \n",
      "\n",
      "            train_accuracy: 0.36719, train_loss: 1.66843, val_accuracy: 0.35000, val_loss: 1.68173 \n",
      "\n",
      "\n"
     ]
    },
    {
     "name": "stderr",
     "output_type": "stream",
     "text": [
      "100%|██████████| 180/180 [00:40<00:00,  4.39it/s]\n"
     ]
    },
    {
     "name": "stdout",
     "output_type": "stream",
     "text": [
      "fold 2,  epoch 07 -------------------------------------------------- \n",
      "\n",
      "            train_accuracy: 0.39427, train_loss: 1.64887, val_accuracy: 0.35625, val_loss: 1.67116 \n",
      "\n",
      "\n"
     ]
    },
    {
     "name": "stderr",
     "output_type": "stream",
     "text": [
      "100%|██████████| 180/180 [00:40<00:00,  4.41it/s]\n"
     ]
    },
    {
     "name": "stdout",
     "output_type": "stream",
     "text": [
      "fold 2,  epoch 08 -------------------------------------------------- \n",
      "\n",
      "            train_accuracy: 0.41441, train_loss: 1.62841, val_accuracy: 0.35833, val_loss: 1.66171 \n",
      "\n",
      "\n"
     ]
    },
    {
     "name": "stderr",
     "output_type": "stream",
     "text": [
      "100%|██████████| 180/180 [00:41<00:00,  4.32it/s]\n"
     ]
    },
    {
     "name": "stdout",
     "output_type": "stream",
     "text": [
      "fold 2,  epoch 09 -------------------------------------------------- \n",
      "\n",
      "            train_accuracy: 0.43785, train_loss: 1.60782, val_accuracy: 0.36181, val_loss: 1.65706 \n",
      "\n",
      "\n"
     ]
    },
    {
     "name": "stderr",
     "output_type": "stream",
     "text": [
      "100%|██████████| 180/180 [00:41<00:00,  4.35it/s]\n"
     ]
    },
    {
     "name": "stdout",
     "output_type": "stream",
     "text": [
      "fold 2,  epoch 10 -------------------------------------------------- \n",
      "\n",
      "            train_accuracy: 0.45156, train_loss: 1.59227, val_accuracy: 0.36458, val_loss: 1.65298 \n",
      "\n",
      "\n",
      "=========================================================================== \n",
      "\n",
      "              fold 2  Ended.  \n",
      "\n",
      "              =========================================================================== \n",
      " \n"
     ]
    },
    {
     "name": "stderr",
     "output_type": "stream",
     "text": [
      "100%|██████████| 180/180 [00:41<00:00,  4.39it/s]\n"
     ]
    },
    {
     "name": "stdout",
     "output_type": "stream",
     "text": [
      "fold 3,  epoch 01 -------------------------------------------------- \n",
      "\n",
      "            train_accuracy: 0.22743, train_loss: 1.78409, val_accuracy: 0.27778, val_loss: 1.77380 \n",
      "\n",
      "\n"
     ]
    },
    {
     "name": "stderr",
     "output_type": "stream",
     "text": [
      "100%|██████████| 180/180 [00:41<00:00,  4.38it/s]\n"
     ]
    },
    {
     "name": "stdout",
     "output_type": "stream",
     "text": [
      "fold 3,  epoch 02 -------------------------------------------------- \n",
      "\n",
      "            train_accuracy: 0.27431, train_loss: 1.76336, val_accuracy: 0.30833, val_loss: 1.74627 \n",
      "\n",
      "\n"
     ]
    },
    {
     "name": "stderr",
     "output_type": "stream",
     "text": [
      "100%|██████████| 180/180 [00:41<00:00,  4.35it/s]\n"
     ]
    },
    {
     "name": "stdout",
     "output_type": "stream",
     "text": [
      "fold 3,  epoch 03 -------------------------------------------------- \n",
      "\n",
      "            train_accuracy: 0.29462, train_loss: 1.73423, val_accuracy: 0.31736, val_loss: 1.71768 \n",
      "\n",
      "\n"
     ]
    },
    {
     "name": "stderr",
     "output_type": "stream",
     "text": [
      "100%|██████████| 180/180 [00:41<00:00,  4.36it/s]\n"
     ]
    },
    {
     "name": "stdout",
     "output_type": "stream",
     "text": [
      "fold 3,  epoch 04 -------------------------------------------------- \n",
      "\n",
      "            train_accuracy: 0.31667, train_loss: 1.70896, val_accuracy: 0.33056, val_loss: 1.69976 \n",
      "\n",
      "\n"
     ]
    },
    {
     "name": "stderr",
     "output_type": "stream",
     "text": [
      "100%|██████████| 180/180 [00:41<00:00,  4.35it/s]\n"
     ]
    },
    {
     "name": "stdout",
     "output_type": "stream",
     "text": [
      "fold 3,  epoch 05 -------------------------------------------------- \n",
      "\n",
      "            train_accuracy: 0.34167, train_loss: 1.68795, val_accuracy: 0.35347, val_loss: 1.68369 \n",
      "\n",
      "\n"
     ]
    },
    {
     "name": "stderr",
     "output_type": "stream",
     "text": [
      "100%|██████████| 180/180 [00:41<00:00,  4.35it/s]\n"
     ]
    },
    {
     "name": "stdout",
     "output_type": "stream",
     "text": [
      "fold 3,  epoch 06 -------------------------------------------------- \n",
      "\n",
      "            train_accuracy: 0.37031, train_loss: 1.66834, val_accuracy: 0.36528, val_loss: 1.67170 \n",
      "\n",
      "\n"
     ]
    },
    {
     "name": "stderr",
     "output_type": "stream",
     "text": [
      "100%|██████████| 180/180 [00:41<00:00,  4.34it/s]\n"
     ]
    },
    {
     "name": "stdout",
     "output_type": "stream",
     "text": [
      "fold 3,  epoch 07 -------------------------------------------------- \n",
      "\n",
      "            train_accuracy: 0.39549, train_loss: 1.64555, val_accuracy: 0.37569, val_loss: 1.65775 \n",
      "\n",
      "\n"
     ]
    },
    {
     "name": "stderr",
     "output_type": "stream",
     "text": [
      "100%|██████████| 180/180 [00:41<00:00,  4.38it/s]\n"
     ]
    },
    {
     "name": "stdout",
     "output_type": "stream",
     "text": [
      "fold 3,  epoch 08 -------------------------------------------------- \n",
      "\n",
      "            train_accuracy: 0.41285, train_loss: 1.62807, val_accuracy: 0.38194, val_loss: 1.64851 \n",
      "\n",
      "\n"
     ]
    },
    {
     "name": "stderr",
     "output_type": "stream",
     "text": [
      "100%|██████████| 180/180 [00:40<00:00,  4.40it/s]\n"
     ]
    },
    {
     "name": "stdout",
     "output_type": "stream",
     "text": [
      "fold 3,  epoch 09 -------------------------------------------------- \n",
      "\n",
      "            train_accuracy: 0.43108, train_loss: 1.60992, val_accuracy: 0.38403, val_loss: 1.64296 \n",
      "\n",
      "\n"
     ]
    },
    {
     "name": "stderr",
     "output_type": "stream",
     "text": [
      "100%|██████████| 180/180 [00:41<00:00,  4.38it/s]\n"
     ]
    },
    {
     "name": "stdout",
     "output_type": "stream",
     "text": [
      "fold 3,  epoch 10 -------------------------------------------------- \n",
      "\n",
      "            train_accuracy: 0.44826, train_loss: 1.59253, val_accuracy: 0.39514, val_loss: 1.63572 \n",
      "\n",
      "\n",
      "=========================================================================== \n",
      "\n",
      "              fold 3  Ended.  \n",
      "\n",
      "              =========================================================================== \n",
      " \n"
     ]
    },
    {
     "name": "stderr",
     "output_type": "stream",
     "text": [
      "100%|██████████| 180/180 [00:41<00:00,  4.38it/s]\n"
     ]
    },
    {
     "name": "stdout",
     "output_type": "stream",
     "text": [
      "fold 4,  epoch 01 -------------------------------------------------- \n",
      "\n",
      "            train_accuracy: 0.21163, train_loss: 1.78586, val_accuracy: 0.24792, val_loss: 1.77899 \n",
      "\n",
      "\n"
     ]
    },
    {
     "name": "stderr",
     "output_type": "stream",
     "text": [
      "100%|██████████| 180/180 [00:41<00:00,  4.37it/s]\n"
     ]
    },
    {
     "name": "stdout",
     "output_type": "stream",
     "text": [
      "fold 4,  epoch 02 -------------------------------------------------- \n",
      "\n",
      "            train_accuracy: 0.28628, train_loss: 1.76906, val_accuracy: 0.31042, val_loss: 1.75383 \n",
      "\n",
      "\n"
     ]
    },
    {
     "name": "stderr",
     "output_type": "stream",
     "text": [
      "100%|██████████| 180/180 [00:41<00:00,  4.37it/s]\n"
     ]
    },
    {
     "name": "stdout",
     "output_type": "stream",
     "text": [
      "fold 4,  epoch 03 -------------------------------------------------- \n",
      "\n",
      "            train_accuracy: 0.30920, train_loss: 1.73885, val_accuracy: 0.31458, val_loss: 1.71828 \n",
      "\n",
      "\n"
     ]
    },
    {
     "name": "stderr",
     "output_type": "stream",
     "text": [
      "100%|██████████| 180/180 [00:41<00:00,  4.39it/s]\n"
     ]
    },
    {
     "name": "stdout",
     "output_type": "stream",
     "text": [
      "fold 4,  epoch 04 -------------------------------------------------- \n",
      "\n",
      "            train_accuracy: 0.32205, train_loss: 1.71184, val_accuracy: 0.33542, val_loss: 1.69988 \n",
      "\n",
      "\n"
     ]
    },
    {
     "name": "stderr",
     "output_type": "stream",
     "text": [
      "100%|██████████| 180/180 [00:40<00:00,  4.40it/s]\n"
     ]
    },
    {
     "name": "stdout",
     "output_type": "stream",
     "text": [
      "fold 4,  epoch 05 -------------------------------------------------- \n",
      "\n",
      "            train_accuracy: 0.34514, train_loss: 1.69363, val_accuracy: 0.36111, val_loss: 1.68399 \n",
      "\n",
      "\n"
     ]
    },
    {
     "name": "stderr",
     "output_type": "stream",
     "text": [
      "100%|██████████| 180/180 [00:40<00:00,  4.41it/s]\n"
     ]
    },
    {
     "name": "stdout",
     "output_type": "stream",
     "text": [
      "fold 4,  epoch 06 -------------------------------------------------- \n",
      "\n",
      "            train_accuracy: 0.36684, train_loss: 1.67305, val_accuracy: 0.37014, val_loss: 1.66927 \n",
      "\n",
      "\n"
     ]
    },
    {
     "name": "stderr",
     "output_type": "stream",
     "text": [
      "100%|██████████| 180/180 [00:41<00:00,  4.37it/s]\n"
     ]
    },
    {
     "name": "stdout",
     "output_type": "stream",
     "text": [
      "fold 4,  epoch 07 -------------------------------------------------- \n",
      "\n",
      "            train_accuracy: 0.39010, train_loss: 1.65104, val_accuracy: 0.37986, val_loss: 1.65522 \n",
      "\n",
      "\n"
     ]
    },
    {
     "name": "stderr",
     "output_type": "stream",
     "text": [
      "100%|██████████| 180/180 [00:42<00:00,  4.26it/s]\n"
     ]
    },
    {
     "name": "stdout",
     "output_type": "stream",
     "text": [
      "fold 4,  epoch 08 -------------------------------------------------- \n",
      "\n",
      "            train_accuracy: 0.40417, train_loss: 1.63588, val_accuracy: 0.38472, val_loss: 1.64779 \n",
      "\n",
      "\n"
     ]
    },
    {
     "name": "stderr",
     "output_type": "stream",
     "text": [
      "100%|██████████| 180/180 [00:41<00:00,  4.36it/s]\n"
     ]
    },
    {
     "name": "stdout",
     "output_type": "stream",
     "text": [
      "fold 4,  epoch 09 -------------------------------------------------- \n",
      "\n",
      "            train_accuracy: 0.42743, train_loss: 1.61398, val_accuracy: 0.39306, val_loss: 1.63976 \n",
      "\n",
      "\n"
     ]
    },
    {
     "name": "stderr",
     "output_type": "stream",
     "text": [
      "100%|██████████| 180/180 [00:41<00:00,  4.37it/s]\n"
     ]
    },
    {
     "name": "stdout",
     "output_type": "stream",
     "text": [
      "fold 4,  epoch 10 -------------------------------------------------- \n",
      "\n",
      "            train_accuracy: 0.44010, train_loss: 1.59917, val_accuracy: 0.39306, val_loss: 1.63564 \n",
      "\n",
      "\n",
      "=========================================================================== \n",
      "\n",
      "              fold 4  Ended.  \n",
      "\n",
      "              =========================================================================== \n",
      " \n"
     ]
    },
    {
     "name": "stderr",
     "output_type": "stream",
     "text": [
      "100%|██████████| 180/180 [00:40<00:00,  4.41it/s]\n"
     ]
    },
    {
     "name": "stdout",
     "output_type": "stream",
     "text": [
      "fold 5,  epoch 01 -------------------------------------------------- \n",
      "\n",
      "            train_accuracy: 0.20677, train_loss: 1.78680, val_accuracy: 0.24514, val_loss: 1.77957 \n",
      "\n",
      "\n"
     ]
    },
    {
     "name": "stderr",
     "output_type": "stream",
     "text": [
      "100%|██████████| 180/180 [00:40<00:00,  4.40it/s]\n"
     ]
    },
    {
     "name": "stdout",
     "output_type": "stream",
     "text": [
      "fold 5,  epoch 02 -------------------------------------------------- \n",
      "\n",
      "            train_accuracy: 0.25729, train_loss: 1.76893, val_accuracy: 0.27222, val_loss: 1.75538 \n",
      "\n",
      "\n"
     ]
    },
    {
     "name": "stderr",
     "output_type": "stream",
     "text": [
      "100%|██████████| 180/180 [00:40<00:00,  4.41it/s]\n"
     ]
    },
    {
     "name": "stdout",
     "output_type": "stream",
     "text": [
      "fold 5,  epoch 03 -------------------------------------------------- \n",
      "\n",
      "            train_accuracy: 0.28889, train_loss: 1.74616, val_accuracy: 0.29167, val_loss: 1.73222 \n",
      "\n",
      "\n"
     ]
    },
    {
     "name": "stderr",
     "output_type": "stream",
     "text": [
      "100%|██████████| 180/180 [00:40<00:00,  4.40it/s]\n"
     ]
    },
    {
     "name": "stdout",
     "output_type": "stream",
     "text": [
      "fold 5,  epoch 04 -------------------------------------------------- \n",
      "\n",
      "            train_accuracy: 0.31771, train_loss: 1.72264, val_accuracy: 0.31597, val_loss: 1.71046 \n",
      "\n",
      "\n"
     ]
    },
    {
     "name": "stderr",
     "output_type": "stream",
     "text": [
      "100%|██████████| 180/180 [00:41<00:00,  4.39it/s]\n"
     ]
    },
    {
     "name": "stdout",
     "output_type": "stream",
     "text": [
      "fold 5,  epoch 05 -------------------------------------------------- \n",
      "\n",
      "            train_accuracy: 0.32969, train_loss: 1.70296, val_accuracy: 0.33889, val_loss: 1.69360 \n",
      "\n",
      "\n"
     ]
    },
    {
     "name": "stderr",
     "output_type": "stream",
     "text": [
      "100%|██████████| 180/180 [00:40<00:00,  4.40it/s]\n"
     ]
    },
    {
     "name": "stdout",
     "output_type": "stream",
     "text": [
      "fold 5,  epoch 06 -------------------------------------------------- \n",
      "\n",
      "            train_accuracy: 0.35278, train_loss: 1.68478, val_accuracy: 0.35139, val_loss: 1.67799 \n",
      "\n",
      "\n"
     ]
    },
    {
     "name": "stderr",
     "output_type": "stream",
     "text": [
      "100%|██████████| 180/180 [00:40<00:00,  4.41it/s]\n"
     ]
    },
    {
     "name": "stdout",
     "output_type": "stream",
     "text": [
      "fold 5,  epoch 07 -------------------------------------------------- \n",
      "\n",
      "            train_accuracy: 0.37309, train_loss: 1.66550, val_accuracy: 0.37708, val_loss: 1.66437 \n",
      "\n",
      "\n"
     ]
    },
    {
     "name": "stderr",
     "output_type": "stream",
     "text": [
      "100%|██████████| 180/180 [00:40<00:00,  4.42it/s]\n"
     ]
    },
    {
     "name": "stdout",
     "output_type": "stream",
     "text": [
      "fold 5,  epoch 08 -------------------------------------------------- \n",
      "\n",
      "            train_accuracy: 0.38993, train_loss: 1.64552, val_accuracy: 0.38611, val_loss: 1.65245 \n",
      "\n",
      "\n"
     ]
    },
    {
     "name": "stderr",
     "output_type": "stream",
     "text": [
      "100%|██████████| 180/180 [00:40<00:00,  4.41it/s]\n"
     ]
    },
    {
     "name": "stdout",
     "output_type": "stream",
     "text": [
      "fold 5,  epoch 09 -------------------------------------------------- \n",
      "\n",
      "            train_accuracy: 0.41128, train_loss: 1.62969, val_accuracy: 0.39931, val_loss: 1.64102 \n",
      "\n",
      "\n"
     ]
    },
    {
     "name": "stderr",
     "output_type": "stream",
     "text": [
      "100%|██████████| 180/180 [00:40<00:00,  4.40it/s]\n"
     ]
    },
    {
     "name": "stdout",
     "output_type": "stream",
     "text": [
      "fold 5,  epoch 10 -------------------------------------------------- \n",
      "\n",
      "            train_accuracy: 0.42500, train_loss: 1.61254, val_accuracy: 0.39583, val_loss: 1.63153 \n",
      "\n",
      "\n",
      "=========================================================================== \n",
      "\n",
      "              fold 5  Ended.  \n",
      "\n",
      "              =========================================================================== \n",
      " \n"
     ]
    }
   ],
   "source": [
    "max_epoch = 10  ### 에포크 수정 ###\n",
    "\n",
    "fold = 0\n",
    "\n",
    "list_test_history = []\n",
    "\n",
    "for train_idx, test_idx in zip(list_train_idx, list_test_idx):\n",
    "  fold += 1\n",
    "\n",
    "\n",
    "  # 모델 초기화\n",
    "  mobilenetv2 = models.mobilenet_v2(pretrained = 'IMAGENET1K_V2')\n",
    "  model = ImageModel(mobilenetv2)\n",
    "\n",
    "  if torch.cuda.is_available():\n",
    "    model.cuda()\n",
    "\n",
    "\n",
    "  train_data = [cv_data[i] for i in train_idx]\n",
    "  test_data = [cv_data[i] for i in test_idx]\n",
    "\n",
    "  train_dataset = RoBaMFImageDataset(dataset = train_data, img_idx = 1, label_idx = 2, transform = train_transform)\n",
    "  test_dataset = RoBaMFImageDataset(dataset = test_data, img_idx = 1, label_idx = 2, transform = test_transform)\n",
    "\n",
    "  train_loader = DataLoader(train_dataset, batch_size = 32, shuffle = True)\n",
    "  test_loader = DataLoader(test_dataset, batch_size = 32, shuffle = True)\n",
    "\n",
    "\n",
    "  optimizer = optim.SGD(model.parameters(), lr = 3.66 * 1e-3)\n",
    "  scheduler = ReduceLROnPlateau(optimizer, mode = 'min', patience = 3, factor = 0.3)\n",
    "  loss_fn = nn.CrossEntropyLoss()\n",
    "\n",
    "\n",
    "  test_history = []\n",
    "  for epoch in range(max_epoch):\n",
    "\n",
    "    # 각 에포크별 모형 훈련 -> train accuracy와 손실함수 반환\n",
    "    train_accuracy, train_loss = model_train(model, train_loader, loss_fn, optimizer, device)\n",
    "\n",
    "    # 시험 데이터에 모형 적합 -> valiation accuray와 손실함수 반환\n",
    "    val_accuracy, val_loss = model_evaluate(model, test_loader, loss_fn, device)\n",
    "\n",
    "    scheduler.step(train_loss)\n",
    "\n",
    "    test_history.append(val_accuracy)\n",
    "\n",
    "    print(f'''fold {fold:d},  epoch {epoch + 1:02d} -------------------------------------------------- \\n\n",
    "            train_accuracy: {train_accuracy:.5f}, train_loss: {train_loss:.5f}, val_accuracy: {val_accuracy:.5f}, val_loss: {val_loss:.5f} \\n\\n''')\n",
    "\n",
    "  print(f'''=========================================================================== \\n\n",
    "              fold {fold:d}  Ended.  \\n\n",
    "              =========================================================================== \\n ''')\n",
    "\n",
    "\n",
    "  # 모형 가중치 저장\n",
    "  torch.save(model.state_dict(), f'/home2/jh981017/myubai/machinelearning/Model Weights/ImageWeight{fold}.pth')\n",
    "\n",
    "  list_test_history.append(test_history)\n"
   ]
  },
  {
   "cell_type": "code",
   "execution_count": 42,
   "metadata": {
    "id": "35stFqX6NkNS"
   },
   "outputs": [],
   "source": [
    "df_test_history = pd.DataFrame(list_test_history)\n",
    "df_test_history.to_csv('/home2/jh981017/myubai/machinelearning/Baseline CVs/Image Baseline.csv')"
   ]
  },
  {
   "cell_type": "code",
   "execution_count": null,
   "metadata": {
    "id": "bf7J8DlUNpNZ"
   },
   "outputs": [],
   "source": []
  },
  {
   "cell_type": "markdown",
   "metadata": {
    "id": "t40rjwPZNqS1"
   },
   "source": [
    "New Data Prediction"
   ]
  },
  {
   "cell_type": "code",
   "execution_count": 43,
   "metadata": {
    "colab": {
     "base_uri": "https://localhost:8080/"
    },
    "executionInfo": {
     "elapsed": 286,
     "status": "ok",
     "timestamp": 1701448167585,
     "user": {
      "displayName": "윤 이상",
      "userId": "05321719341467468761"
     },
     "user_tz": -540
    },
    "id": "X2GMbgSREOxT",
    "outputId": "fdba3689-c261-4a3c-fd48-c9dc4c6aa0f5"
   },
   "outputs": [
    {
     "data": {
      "text/plain": [
       "[2231, '/home2/jh981017/myubai/NaverNews/economy/economy15.jpg', 5]"
      ]
     },
     "execution_count": 43,
     "metadata": {},
     "output_type": "execute_result"
    }
   ],
   "source": [
    "new_data[1]"
   ]
  },
  {
   "cell_type": "code",
   "execution_count": 1,
   "metadata": {
    "colab": {
     "base_uri": "https://localhost:8080/",
     "height": 471
    },
    "executionInfo": {
     "elapsed": 3021,
     "status": "error",
     "timestamp": 1701448527082,
     "user": {
      "displayName": "윤 이상",
      "userId": "05321719341467468761"
     },
     "user_tz": -540
    },
    "id": "tNUv_ecpECIp",
    "outputId": "cb3e0fee-e050-4e52-c007-4074b6ee9506"
   },
   "outputs": [
    {
     "ename": "NameError",
     "evalue": "name 'models' is not defined",
     "output_type": "error",
     "traceback": [
      "\u001b[0;31m---------------------------------------------------------------------------\u001b[0m",
      "\u001b[0;31mNameError\u001b[0m                                 Traceback (most recent call last)",
      "\u001b[0;32m/tmp/ipykernel_3215/4009021956.py\u001b[0m in \u001b[0;36m<module>\u001b[0;34m\u001b[0m\n\u001b[1;32m      2\u001b[0m \u001b[0;34m\u001b[0m\u001b[0m\n\u001b[1;32m      3\u001b[0m \u001b[0;31m# 모델 초기화\u001b[0m\u001b[0;34m\u001b[0m\u001b[0;34m\u001b[0m\u001b[0;34m\u001b[0m\u001b[0m\n\u001b[0;32m----> 4\u001b[0;31m \u001b[0mmobilenetv2\u001b[0m \u001b[0;34m=\u001b[0m \u001b[0mmodels\u001b[0m\u001b[0;34m.\u001b[0m\u001b[0mmobilenet_v2\u001b[0m\u001b[0;34m(\u001b[0m\u001b[0mweights\u001b[0m \u001b[0;34m=\u001b[0m \u001b[0;34m'DEFAULT'\u001b[0m\u001b[0;34m)\u001b[0m\u001b[0;34m\u001b[0m\u001b[0;34m\u001b[0m\u001b[0m\n\u001b[0m\u001b[1;32m      5\u001b[0m \u001b[0;31m# mobilenetv2 = models.mobilenet_v2(pretrained = 'IMAGENET1K_V2')\u001b[0m\u001b[0;34m\u001b[0m\u001b[0;34m\u001b[0m\u001b[0;34m\u001b[0m\u001b[0m\n\u001b[1;32m      6\u001b[0m \u001b[0mmodel\u001b[0m \u001b[0;34m=\u001b[0m \u001b[0mImageModel\u001b[0m\u001b[0;34m(\u001b[0m\u001b[0mmobilenetv2\u001b[0m\u001b[0;34m)\u001b[0m\u001b[0;34m\u001b[0m\u001b[0;34m\u001b[0m\u001b[0m\n",
      "\u001b[0;31mNameError\u001b[0m: name 'models' is not defined"
     ]
    }
   ],
   "source": [
    "max_epoch = 15   ### 에포크 수정 ###\n",
    "\n",
    "# 모델 초기화\n",
    "mobilenetv2 = models.mobilenet_v2(weights = 'DEFAULT')\n",
    "# mobilenetv2 = models.mobilenet_v2(pretrained = 'IMAGENET1K_V2')\n",
    "model = ImageModel(mobilenetv2)\n",
    "\n",
    "for i, (name, param) in enumerate(model.named_parameters()):\n",
    "  param.requires_grad = False\n",
    "  if i == 155:\n",
    "    break\n",
    "\n",
    "if torch.cuda.is_available():\n",
    "  model.cuda()\n",
    "\n",
    "\n",
    "train_data = cv_data\n",
    "test_data = new_data\n",
    "\n",
    "train_dataset = RoBaMFImageDataset(dataset = train_data, img_idx = 1, label_idx = 2, transform = train_transform)\n",
    "test_dataset = RoBaMFImageDataset(dataset = test_data, img_idx = 1, label_idx = 2, transform = test_transform)\n",
    "\n",
    "train_loader = DataLoader(train_dataset, batch_size = 16, shuffle = True)\n",
    "test_loader = DataLoader(test_dataset, batch_size = 16, shuffle = True)\n",
    "\n",
    "optimizer = optim.SGD(model.parameters(), lr = 3.66 * 1e-3)\n",
    "# optimizer = optim.Adam(model.parameters(), lr = 0.2)\n",
    "scheduler = ReduceLROnPlateau(optimizer, mode = 'min', patience = 3, factor = 0.3)\n",
    "loss_fn = nn.CrossEntropyLoss()\n",
    "\n",
    "\n",
    "test_history = []\n",
    "for epoch in range(max_epoch):\n",
    "\n",
    "  # 각 에포크별 모형 훈련 -> train accuracy와 손실함수 반환\n",
    "  train_accuracy, train_loss = model_train(model, train_loader, loss_fn, optimizer, device)\n",
    "\n",
    "  # 시험 데이터에 모형 적합 -> valiation accuray와 손실함수 반환\n",
    "  val_accuracy, val_loss = model_evaluate(model, test_loader, loss_fn, device)\n",
    "\n",
    "  scheduler.step(train_loss)\n",
    "\n",
    "  test_history.append(val_accuracy)\n",
    "\n",
    "  print(f'''epoch {epoch + 1:02d} -------------------------------------------------- \\n\n",
    "          train_accuracy: {train_accuracy:.5f}, train_loss: {train_loss:.5f}, val_accuracy: {val_accuracy:.5f}, val_loss: {val_loss:.5f} \\n\\n''')\n",
    "\n"
   ]
  },
  {
   "cell_type": "code",
   "execution_count": 49,
   "metadata": {},
   "outputs": [],
   "source": [
    "df_test_history = pd.DataFrame(test_history)\n",
    "df_test_history.to_csv('/home2/jh981017/myubai/machinelearning/Baseline CVs/Image Baseline_new.csv')"
   ]
  },
  {
   "cell_type": "code",
   "execution_count": 50,
   "metadata": {},
   "outputs": [
    {
     "data": {
      "text/html": [
       "<div>\n",
       "<style scoped>\n",
       "    .dataframe tbody tr th:only-of-type {\n",
       "        vertical-align: middle;\n",
       "    }\n",
       "\n",
       "    .dataframe tbody tr th {\n",
       "        vertical-align: top;\n",
       "    }\n",
       "\n",
       "    .dataframe thead th {\n",
       "        text-align: right;\n",
       "    }\n",
       "</style>\n",
       "<table border=\"1\" class=\"dataframe\">\n",
       "  <thead>\n",
       "    <tr style=\"text-align: right;\">\n",
       "      <th></th>\n",
       "      <th>0</th>\n",
       "    </tr>\n",
       "  </thead>\n",
       "  <tbody>\n",
       "    <tr>\n",
       "      <th>0</th>\n",
       "      <td>0.200874</td>\n",
       "    </tr>\n",
       "    <tr>\n",
       "      <th>1</th>\n",
       "      <td>0.243706</td>\n",
       "    </tr>\n",
       "    <tr>\n",
       "      <th>2</th>\n",
       "      <td>0.256643</td>\n",
       "    </tr>\n",
       "    <tr>\n",
       "      <th>3</th>\n",
       "      <td>0.290210</td>\n",
       "    </tr>\n",
       "    <tr>\n",
       "      <th>4</th>\n",
       "      <td>0.289510</td>\n",
       "    </tr>\n",
       "    <tr>\n",
       "      <th>5</th>\n",
       "      <td>0.290559</td>\n",
       "    </tr>\n",
       "    <tr>\n",
       "      <th>6</th>\n",
       "      <td>0.314510</td>\n",
       "    </tr>\n",
       "    <tr>\n",
       "      <th>7</th>\n",
       "      <td>0.308042</td>\n",
       "    </tr>\n",
       "    <tr>\n",
       "      <th>8</th>\n",
       "      <td>0.329196</td>\n",
       "    </tr>\n",
       "    <tr>\n",
       "      <th>9</th>\n",
       "      <td>0.344406</td>\n",
       "    </tr>\n",
       "    <tr>\n",
       "      <th>10</th>\n",
       "      <td>0.355594</td>\n",
       "    </tr>\n",
       "    <tr>\n",
       "      <th>11</th>\n",
       "      <td>0.354545</td>\n",
       "    </tr>\n",
       "    <tr>\n",
       "      <th>12</th>\n",
       "      <td>0.373252</td>\n",
       "    </tr>\n",
       "    <tr>\n",
       "      <th>13</th>\n",
       "      <td>0.354371</td>\n",
       "    </tr>\n",
       "    <tr>\n",
       "      <th>14</th>\n",
       "      <td>0.366608</td>\n",
       "    </tr>\n",
       "  </tbody>\n",
       "</table>\n",
       "</div>"
      ],
      "text/plain": [
       "           0\n",
       "0   0.200874\n",
       "1   0.243706\n",
       "2   0.256643\n",
       "3   0.290210\n",
       "4   0.289510\n",
       "5   0.290559\n",
       "6   0.314510\n",
       "7   0.308042\n",
       "8   0.329196\n",
       "9   0.344406\n",
       "10  0.355594\n",
       "11  0.354545\n",
       "12  0.373252\n",
       "13  0.354371\n",
       "14  0.366608"
      ]
     },
     "execution_count": 50,
     "metadata": {},
     "output_type": "execute_result"
    }
   ],
   "source": [
    "df_test_history"
   ]
  }
 ],
 "metadata": {
  "accelerator": "GPU",
  "colab": {
   "gpuType": "T4",
   "provenance": []
  },
  "kernelspec": {
   "display_name": "Python 3 (ipykernel)",
   "language": "python",
   "name": "python3"
  },
  "language_info": {
   "codemirror_mode": {
    "name": "ipython",
    "version": 3
   },
   "file_extension": ".py",
   "mimetype": "text/x-python",
   "name": "python",
   "nbconvert_exporter": "python",
   "pygments_lexer": "ipython3",
   "version": "3.8.10"
  }
 },
 "nbformat": 4,
 "nbformat_minor": 4
}
