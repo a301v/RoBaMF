{
 "cells": [
  {
   "cell_type": "code",
   "execution_count": 14,
   "metadata": {
    "colab": {
     "base_uri": "https://localhost:8080/"
    },
    "executionInfo": {
     "elapsed": 2515,
     "status": "ok",
     "timestamp": 1701446581464,
     "user": {
      "displayName": "윤 이상",
      "userId": "05321719341467468761"
     },
     "user_tz": -540
    },
    "id": "dzaJ_dTfhwJS",
    "outputId": "106d5491-2c6e-419c-96e6-d78f07dc276c"
   },
   "outputs": [],
   "source": [
    "from PIL import Image\n",
    "import numpy as np\n",
    "import os\n",
    "import glob\n",
    "import numpy as np\n",
    "import pandas as pd\n",
    "\n",
    "import torch\n",
    "import torchvision\n",
    "from torch.utils.data import Dataset, DataLoader\n",
    "from torchvision import transforms, models\n",
    "import torch.nn as nn\n",
    "import torch.optim as optim\n",
    "from torch.optim.lr_scheduler import ReduceLROnPlateau\n",
    "\n",
    "import openpyxl\n",
    "from tqdm import tqdm\n"
   ]
  },
  {
   "cell_type": "code",
   "execution_count": 24,
   "metadata": {
    "colab": {
     "base_uri": "https://localhost:8080/"
    },
    "executionInfo": {
     "elapsed": 249,
     "status": "ok",
     "timestamp": 1701446633531,
     "user": {
      "displayName": "윤 이상",
      "userId": "05321719341467468761"
     },
     "user_tz": -540
    },
    "id": "BovY_w2G9aSr",
    "outputId": "51045ab4-8228-4449-fdec-81084f3785aa"
   },
   "outputs": [
    {
     "data": {
      "text/plain": [
       "['/home2/jh981017/myubai/NaverNews/economy',\n",
       " '/home2/jh981017/myubai/NaverNews/life',\n",
       " '/home2/jh981017/myubai/NaverNews/politics',\n",
       " '/home2/jh981017/myubai/NaverNews/science',\n",
       " '/home2/jh981017/myubai/NaverNews/society',\n",
       " '/home2/jh981017/myubai/NaverNews/world']"
      ]
     },
     "execution_count": 24,
     "metadata": {},
     "output_type": "execute_result"
    }
   ],
   "source": [
    "# 각 섹션별 이미지가 담겨 있는 폴더의 경로들을 가져옴\n",
    "\n",
    "section_folders = glob.glob('/home2/jh981017/myubai/NaverNews/*')\n",
    "section_folders"
   ]
  },
  {
   "cell_type": "code",
   "execution_count": 25,
   "metadata": {
    "colab": {
     "base_uri": "https://localhost:8080/"
    },
    "executionInfo": {
     "elapsed": 273,
     "status": "ok",
     "timestamp": 1701446635613,
     "user": {
      "displayName": "윤 이상",
      "userId": "05321719341467468761"
     },
     "user_tz": -540
    },
    "id": "G0flgcKipJMY",
    "outputId": "40ff2290-09fa-4470-bde5-0036b1b92167"
   },
   "outputs": [
    {
     "data": {
      "text/plain": [
       "['economy', 'life', 'politics', 'science', 'society', 'world']"
      ]
     },
     "execution_count": 25,
     "metadata": {},
     "output_type": "execute_result"
    }
   ],
   "source": [
    "root = 'NaverNews'\n",
    "sections = os.listdir(root)\n",
    "sections"
   ]
  },
  {
   "cell_type": "code",
   "execution_count": 26,
   "metadata": {
    "colab": {
     "base_uri": "https://localhost:8080/"
    },
    "executionInfo": {
     "elapsed": 326,
     "status": "ok",
     "timestamp": 1701446638916,
     "user": {
      "displayName": "윤 이상",
      "userId": "05321719341467468761"
     },
     "user_tz": -540
    },
    "id": "eP9A9xZTqRrd",
    "outputId": "0af13cf6-69c4-493c-dc37-0d5cce7fe858"
   },
   "outputs": [
    {
     "data": {
      "text/plain": [
       "['/home2/jh981017/myubai/NaverNews/economy/economytext1.xlsx',\n",
       " '/home2/jh981017/myubai/NaverNews/life/lifetext1.xlsx',\n",
       " '/home2/jh981017/myubai/NaverNews/politics/politicstext1.xlsx',\n",
       " '/home2/jh981017/myubai/NaverNews/science/sciencetext1.xlsx',\n",
       " '/home2/jh981017/myubai/NaverNews/society/societytext1.xlsx',\n",
       " '/home2/jh981017/myubai/NaverNews/world/worldtext1.xlsx']"
      ]
     },
     "execution_count": 26,
     "metadata": {},
     "output_type": "execute_result"
    }
   ],
   "source": [
    "text_paths = []\n",
    "for folder, section in zip(section_folders, sections):\n",
    "  text_path = folder + '/' + section + 'text1' + '.xlsx'\n",
    "  text_paths.append(text_path)\n",
    "\n",
    "text_paths"
   ]
  },
  {
   "cell_type": "code",
   "execution_count": 27,
   "metadata": {
    "executionInfo": {
     "elapsed": 5005,
     "status": "ok",
     "timestamp": 1701446651341,
     "user": {
      "displayName": "윤 이상",
      "userId": "05321719341467468761"
     },
     "user_tz": -540
    },
    "id": "6ulvL9nY-ODl"
   },
   "outputs": [],
   "source": [
    "# 각 섹션별 사용할 데이터의 인덱스가 담겨 있는 딕셔너리\n",
    "\n",
    "idx_dictionary = {}\n",
    "\n",
    "for section, text_path in zip(sections, text_paths):\n",
    "  text = pd.read_excel(text_path)\n",
    "  idx_section = list(text['idx'])\n",
    "\n",
    "  idx_dictionary[section] = idx_section"
   ]
  },
  {
   "cell_type": "code",
   "execution_count": 28,
   "metadata": {
    "colab": {
     "base_uri": "https://localhost:8080/"
    },
    "executionInfo": {
     "elapsed": 256,
     "status": "ok",
     "timestamp": 1701446656369,
     "user": {
      "displayName": "윤 이상",
      "userId": "05321719341467468761"
     },
     "user_tz": -540
    },
    "id": "UYieNXYVr-tG",
    "outputId": "1040873b-0a0e-492e-d7f5-13cfec466cea"
   },
   "outputs": [
    {
     "data": {
      "text/plain": [
       "1888"
      ]
     },
     "execution_count": 28,
     "metadata": {},
     "output_type": "execute_result"
    }
   ],
   "source": [
    "len(idx_dictionary['economy'])"
   ]
  },
  {
   "cell_type": "code",
   "execution_count": 29,
   "metadata": {
    "executionInfo": {
     "elapsed": 257,
     "status": "ok",
     "timestamp": 1701447017654,
     "user": {
      "displayName": "윤 이상",
      "userId": "05321719341467468761"
     },
     "user_tz": -540
    },
    "id": "ljlhe9aJw1mX"
   },
   "outputs": [],
   "source": [
    "np.random.seed(602)\n",
    "\n",
    "cv_idx_dictionary = {}\n",
    "\n",
    "for section in sections:\n",
    "  cv_idx_section = list(np.random.choice(idx_dictionary[section], size = 1200, replace = False))\n",
    "  cv_idx_section.sort()\n",
    "\n",
    "  cv_idx_dictionary[section] = cv_idx_section"
   ]
  },
  {
   "cell_type": "code",
   "execution_count": 30,
   "metadata": {
    "colab": {
     "base_uri": "https://localhost:8080/"
    },
    "executionInfo": {
     "elapsed": 3,
     "status": "ok",
     "timestamp": 1701447018460,
     "user": {
      "displayName": "윤 이상",
      "userId": "05321719341467468761"
     },
     "user_tz": -540
    },
    "id": "2jqxUhiCw2aM",
    "outputId": "922438e3-1bc8-4ea0-f7c4-f9fde95760a0"
   },
   "outputs": [
    {
     "data": {
      "text/plain": [
       "1200"
      ]
     },
     "execution_count": 30,
     "metadata": {},
     "output_type": "execute_result"
    }
   ],
   "source": [
    "len(cv_idx_dictionary['economy'])"
   ]
  },
  {
   "cell_type": "code",
   "execution_count": 31,
   "metadata": {
    "executionInfo": {
     "elapsed": 1103,
     "status": "ok",
     "timestamp": 1701447020476,
     "user": {
      "displayName": "윤 이상",
      "userId": "05321719341467468761"
     },
     "user_tz": -540
    },
    "id": "yUGeb_ucw6Cf"
   },
   "outputs": [],
   "source": [
    "new_idx_dictionary = {}\n",
    "\n",
    "for section in sections:\n",
    "  new_idx_section = [i for i in idx_dictionary[section] if i not in cv_idx_dictionary[section]]\n",
    "\n",
    "  new_idx_dictionary[section] = new_idx_section"
   ]
  },
  {
   "cell_type": "code",
   "execution_count": 32,
   "metadata": {
    "colab": {
     "base_uri": "https://localhost:8080/"
    },
    "executionInfo": {
     "elapsed": 3,
     "status": "ok",
     "timestamp": 1701447020476,
     "user": {
      "displayName": "윤 이상",
      "userId": "05321719341467468761"
     },
     "user_tz": -540
    },
    "id": "RbqYyKjJxgQk",
    "outputId": "a777db52-e14b-4bc9-deb1-f2b39be5a886"
   },
   "outputs": [
    {
     "data": {
      "text/plain": [
       "688"
      ]
     },
     "execution_count": 32,
     "metadata": {},
     "output_type": "execute_result"
    }
   ],
   "source": [
    "len(new_idx_dictionary['economy'])"
   ]
  },
  {
   "cell_type": "code",
   "execution_count": 33,
   "metadata": {
    "colab": {
     "base_uri": "https://localhost:8080/"
    },
    "executionInfo": {
     "elapsed": 290,
     "status": "ok",
     "timestamp": 1701448714208,
     "user": {
      "displayName": "윤 이상",
      "userId": "05321719341467468761"
     },
     "user_tz": -540
    },
    "id": "XoMTszUQJzpS",
    "outputId": "c3731c25-0bd7-4c12-9edd-623a0d844e65"
   },
   "outputs": [
    {
     "data": {
      "text/plain": [
       "1888"
      ]
     },
     "execution_count": 33,
     "metadata": {},
     "output_type": "execute_result"
    }
   ],
   "source": [
    "len(idx_dictionary['economy'])"
   ]
  },
  {
   "cell_type": "code",
   "execution_count": null,
   "metadata": {
    "id": "X8-35_AsDAxw"
   },
   "outputs": [],
   "source": [
    "# 라벨에 해당하는 y값 매칭하기 (0 ~ 5)\n",
    "\n",
    "# label_to_y = {section : idx for idx, section in enumerate(sections)}\n",
    "# label_to_y"
   ]
  },
  {
   "cell_type": "code",
   "execution_count": 34,
   "metadata": {
    "colab": {
     "base_uri": "https://localhost:8080/"
    },
    "executionInfo": {
     "elapsed": 269,
     "status": "ok",
     "timestamp": 1701447512167,
     "user": {
      "displayName": "윤 이상",
      "userId": "05321719341467468761"
     },
     "user_tz": -540
    },
    "id": "3qF4WHqB0_Yo",
    "outputId": "300f5932-bb38-4789-c0be-89b0f1c200be"
   },
   "outputs": [
    {
     "data": {
      "text/plain": [
       "{'politics': 0,\n",
       " 'society': 1,\n",
       " 'science': 2,\n",
       " 'life': 3,\n",
       " 'world': 4,\n",
       " 'economy': 5}"
      ]
     },
     "execution_count": 34,
     "metadata": {},
     "output_type": "execute_result"
    }
   ],
   "source": [
    "label_to_y = {\n",
    "    'politics': 0,\n",
    "    'society': 1,\n",
    "    'science': 2,\n",
    "    'life': 3,\n",
    "    'world': 4,\n",
    "    'economy': 5\n",
    "}\n",
    "label_to_y"
   ]
  },
  {
   "cell_type": "code",
   "execution_count": 35,
   "metadata": {
    "executionInfo": {
     "elapsed": 293,
     "status": "ok",
     "timestamp": 1701447515055,
     "user": {
      "displayName": "윤 이상",
      "userId": "05321719341467468761"
     },
     "user_tz": -540
    },
    "id": "RTketT2a9kr7"
   },
   "outputs": [],
   "source": [
    "# 분석에 사용할 모든 데이터들의 경로를 불러온다.\n",
    "\n",
    "cv_data = []\n",
    "new_data = []\n",
    "\n",
    "for section_folder in section_folders:\n",
    "\n",
    "  # 각 섹션 이름 가져와서 인덱스랑 합하기\n",
    "  section = os.path.basename(section_folder)\n",
    "\n",
    "  cv_indicies = cv_idx_dictionary[section]\n",
    "  new_indicies = new_idx_dictionary[section]\n",
    "\n",
    "  y = label_to_y[section]\n",
    "\n",
    "\n",
    "  for cv_idx in cv_indicies:\n",
    "    imgname = section + str(cv_idx) + '.jpg'\n",
    "    imgpath = os.path.join(section_folder, imgname)\n",
    "\n",
    "    data = []\n",
    "    data.append(cv_idx)\n",
    "    data.append(imgpath)\n",
    "    data.append(y)\n",
    "\n",
    "    cv_data.append(data)\n",
    "\n",
    "\n",
    "  for new_idx in new_idx_dictionary[section]:\n",
    "    imgname = section + str(new_idx) + '.jpg'\n",
    "    imgpath = os.path.join(section_folder, imgname)\n",
    "\n",
    "    data = []\n",
    "    data.append(cv_idx)\n",
    "    data.append(imgpath)\n",
    "    data.append(y)\n",
    "\n",
    "    new_data.append(data)"
   ]
  },
  {
   "cell_type": "code",
   "execution_count": 36,
   "metadata": {
    "colab": {
     "base_uri": "https://localhost:8080/"
    },
    "executionInfo": {
     "elapsed": 4,
     "status": "ok",
     "timestamp": 1701447522052,
     "user": {
      "displayName": "윤 이상",
      "userId": "05321719341467468761"
     },
     "user_tz": -540
    },
    "id": "dxl2yvnRJEse",
    "outputId": "3ee079e9-64b1-4c51-c42e-dfa3389351f5"
   },
   "outputs": [
    {
     "data": {
      "text/plain": [
       "[[3, '/home2/jh981017/myubai/NaverNews/economy/economy3.jpg', 5],\n",
       " [6, '/home2/jh981017/myubai/NaverNews/economy/economy6.jpg', 5],\n",
       " [9, '/home2/jh981017/myubai/NaverNews/economy/economy9.jpg', 5],\n",
       " [13, '/home2/jh981017/myubai/NaverNews/economy/economy13.jpg', 5],\n",
       " [16, '/home2/jh981017/myubai/NaverNews/economy/economy16.jpg', 5],\n",
       " [17, '/home2/jh981017/myubai/NaverNews/economy/economy17.jpg', 5],\n",
       " [18, '/home2/jh981017/myubai/NaverNews/economy/economy18.jpg', 5],\n",
       " [22, '/home2/jh981017/myubai/NaverNews/economy/economy22.jpg', 5],\n",
       " [23, '/home2/jh981017/myubai/NaverNews/economy/economy23.jpg', 5],\n",
       " [25, '/home2/jh981017/myubai/NaverNews/economy/economy25.jpg', 5]]"
      ]
     },
     "execution_count": 36,
     "metadata": {},
     "output_type": "execute_result"
    }
   ],
   "source": [
    "cv_data[0:10]"
   ]
  },
  {
   "cell_type": "code",
   "execution_count": 37,
   "metadata": {
    "colab": {
     "base_uri": "https://localhost:8080/"
    },
    "executionInfo": {
     "elapsed": 282,
     "status": "ok",
     "timestamp": 1701447535797,
     "user": {
      "displayName": "윤 이상",
      "userId": "05321719341467468761"
     },
     "user_tz": -540
    },
    "id": "tBk6VhMiJXu6",
    "outputId": "353358c8-e293-405d-eb08-42e11ac6cd53"
   },
   "outputs": [
    {
     "data": {
      "text/plain": [
       "7200"
      ]
     },
     "execution_count": 37,
     "metadata": {},
     "output_type": "execute_result"
    }
   ],
   "source": [
    "len(cv_data)"
   ]
  },
  {
   "cell_type": "code",
   "execution_count": 38,
   "metadata": {
    "colab": {
     "base_uri": "https://localhost:8080/"
    },
    "executionInfo": {
     "elapsed": 3,
     "status": "ok",
     "timestamp": 1701450529616,
     "user": {
      "displayName": "윤 이상",
      "userId": "05321719341467468761"
     },
     "user_tz": -540
    },
    "id": "Zz_CIeCyWp_F",
    "outputId": "be96d625-1826-4d4c-f3c1-77e56cf16d1a"
   },
   "outputs": [
    {
     "data": {
      "text/plain": [
       "5720"
      ]
     },
     "execution_count": 38,
     "metadata": {},
     "output_type": "execute_result"
    }
   ],
   "source": [
    "len(new_data)"
   ]
  },
  {
   "cell_type": "code",
   "execution_count": null,
   "metadata": {
    "id": "3ikTfOnmJsn2"
   },
   "outputs": [],
   "source": []
  },
  {
   "cell_type": "code",
   "execution_count": null,
   "metadata": {
    "id": "e9Z6cSq8jq5_"
   },
   "outputs": [],
   "source": []
  },
  {
   "cell_type": "code",
   "execution_count": 39,
   "metadata": {
    "executionInfo": {
     "elapsed": 3,
     "status": "ok",
     "timestamp": 1701448067059,
     "user": {
      "displayName": "윤 이상",
      "userId": "05321719341467468761"
     },
     "user_tz": -540
    },
    "id": "6nnPENW3JD84"
   },
   "outputs": [],
   "source": [
    "# 이미지 데이터셋 만들기\n",
    "\n",
    "class RoBaMFImageDataset(Dataset):\n",
    "  def __init__(self, dataset, img_idx = 1, label_idx = 2, transform = None):\n",
    "    super(RoBaMFImageDataset, self).__init__()\n",
    "\n",
    "    self.imgpaths = [i[img_idx] for i in dataset]\n",
    "    self.y = [np.int32(i[label_idx]) for i in dataset]\n",
    "    self.transform = transform\n",
    "\n",
    "\n",
    "  def __len__(self):\n",
    "\n",
    "    return len(self.imgpaths)\n",
    "\n",
    "\n",
    "  def __getitem__(self, idx):\n",
    "    imgpath = self.imgpaths[idx]\n",
    "\n",
    "    img = Image.open(imgpath).convert('RGB')\n",
    "    img = self.transform(img)\n",
    "\n",
    "    target = self.y[idx]\n",
    "\n",
    "    return img, target"
   ]
  },
  {
   "cell_type": "code",
   "execution_count": 21,
   "metadata": {
    "executionInfo": {
     "elapsed": 275,
     "status": "ok",
     "timestamp": 1701448081365,
     "user": {
      "displayName": "윤 이상",
      "userId": "05321719341467468761"
     },
     "user_tz": -540
    },
    "id": "rxNeP20SLDlQ"
   },
   "outputs": [],
   "source": [
    "# 사용할 모형에 맞게 이미지를 transform & normalize\n",
    "\n",
    "train_transform = transforms.Compose([\n",
    "    transforms.Resize((224, 224)),\n",
    "    #transforms.Resize(256),\n",
    "    #transforms.CenterCrop((224, 224)),\n",
    "    transforms.ToTensor(),\n",
    "    transforms.Normalize(mean=[0.485, 0.456, 0.406], std=[0.229, 0.224, 0.225]),\n",
    "])\n",
    "\n",
    "test_transform = transforms.Compose([\n",
    "    transforms.Resize((224, 224)),\n",
    "    #transforms.Resize(256),\n",
    "    #transforms.CenterCrop((224, 224)),\n",
    "    transforms.ToTensor(),\n",
    "    transforms.Normalize(mean=[0.485, 0.456, 0.406], std=[0.229, 0.224, 0.225]),\n",
    "])"
   ]
  },
  {
   "cell_type": "code",
   "execution_count": 32,
   "metadata": {
    "executionInfo": {
     "elapsed": 263,
     "status": "ok",
     "timestamp": 1701447744898,
     "user": {
      "displayName": "윤 이상",
      "userId": "05321719341467468761"
     },
     "user_tz": -540
    },
    "id": "p2ng_itqWyZw"
   },
   "outputs": [],
   "source": [
    "class ImageModel(nn.Module):\n",
    "  def __init__(self, mobilenetv2):\n",
    "    super(ImageModel, self).__init__()\n",
    "\n",
    "    self.mobilenetv2 = mobilenetv2\n",
    "\n",
    "    self.fc = nn.Sequential(\n",
    "              nn.Linear(1000, 1024),\n",
    "              nn.ReLU(),\n",
    "              nn.Linear(1024, 1024),\n",
    "              nn.ReLU(),\n",
    "              nn.Linear(1024, 6),\n",
    "              nn.Softmax(1)\n",
    "              )\n",
    "\n",
    "\n",
    "  def forward(self, img):\n",
    "    x = self.mobilenetv2(img)\n",
    "    x = self.fc(x)\n",
    "\n",
    "    return x"
   ]
  },
  {
   "cell_type": "code",
   "execution_count": null,
   "metadata": {
    "id": "9HkCz4Hrqusm"
   },
   "outputs": [],
   "source": []
  },
  {
   "cell_type": "code",
   "execution_count": 23,
   "metadata": {
    "executionInfo": {
     "elapsed": 2,
     "status": "ok",
     "timestamp": 1701448515430,
     "user": {
      "displayName": "윤 이상",
      "userId": "05321719341467468761"
     },
     "user_tz": -540
    },
    "id": "wloTpogYMpNv"
   },
   "outputs": [],
   "source": [
    "# 모형의 가중치 업데이트를 위한 모듈\n",
    "\n",
    "def model_train(model, data_loader, loss_fn, optimizer, device):\n",
    "\n",
    "  model.train()\n",
    "  size = len(data_loader.dataset)\n",
    "\n",
    "  progress_bar = tqdm(data_loader)\n",
    "\n",
    "  corr = 0\n",
    "  running_loss = 0\n",
    "\n",
    "  for X, y in progress_bar:\n",
    "    X, y = X.to(device), y.long().to(device)\n",
    "\n",
    "    # 예측하고 크로스엔트로피 계산\n",
    "    pred = model(X)\n",
    "    loss = loss_fn(pred, y)\n",
    "\n",
    "    # 그래티언트 초기화\n",
    "    optimizer.zero_grad()\n",
    "\n",
    "    # 역전파 알고리즘에 의한 그래디언트 계산\n",
    "    loss.backward()\n",
    "\n",
    "    # 그래디언트를 이용한 업데이트\n",
    "    optimizer.step()\n",
    "\n",
    "    # accuracy 계산을 위한 정답 개수 계산\n",
    "    corr += (pred.argmax(1) == y).type(torch.float).sum().item()\n",
    "\n",
    "    # 평균 크로스엔트로피 계산을 위한 합\n",
    "    running_loss += loss.item() * X.size(0)\n",
    "\n",
    "\n",
    "  # accuracy\n",
    "  accuracy = corr / size\n",
    "  running_loss = running_loss / size\n",
    "\n",
    "  return accuracy, running_loss"
   ]
  },
  {
   "cell_type": "code",
   "execution_count": 24,
   "metadata": {
    "executionInfo": {
     "elapsed": 2,
     "status": "ok",
     "timestamp": 1701448516981,
     "user": {
      "displayName": "윤 이상",
      "userId": "05321719341467468761"
     },
     "user_tz": -540
    },
    "id": "J-p9BLC9OA-n"
   },
   "outputs": [],
   "source": [
    "# 모형 평가를 위한 모듈\n",
    "\n",
    "def model_evaluate(model, data_loader, loss_fn, device):\n",
    "\n",
    "  size = len(data_loader.dataset)\n",
    "  model.eval()\n",
    "\n",
    "  with torch.no_grad():\n",
    "    corr = 0\n",
    "    running_loss = 0\n",
    "\n",
    "    for X, y in data_loader:\n",
    "      X, y = X.to(device), y.long().to(device)\n",
    "\n",
    "\n",
    "      # 예측 확률 계산\n",
    "      pred = model(X)\n",
    "      loss = loss_fn(pred, y)\n",
    "\n",
    "      # accuracy 계산을 위한 정답 개수 계산\n",
    "      corr += (pred.argmax(1) == y).type(torch.float).sum().item()\n",
    "\n",
    "      # 평균 크로스엔트로피 계산을 위한 합\n",
    "      running_loss += loss.item() * X.size(0)\n",
    "\n",
    "  # accuracy\n",
    "  accuracy = corr / size\n",
    "  running_loss = running_loss / size\n",
    "\n",
    "  return accuracy, running_loss"
   ]
  },
  {
   "cell_type": "markdown",
   "metadata": {
    "id": "FqkpToFrjrm9"
   },
   "source": [
    "Stratified K-fold CV"
   ]
  },
  {
   "cell_type": "code",
   "execution_count": null,
   "metadata": {
    "id": "iB1IMu6tUzk4"
   },
   "outputs": [],
   "source": [
    "#lr=0.2, patence=3, factor=0.3/ adamw, rmsprop/ lr한번 조절해보자!/loss fuction도..? 0.25앵간했음\n",
    "#RBGA로 안나타나는 png파일을\n",
    "#from PIL import Image\n",
    "\n",
    "#image = Image.open('path_to_your_image.png')\n",
    "#image = image.convert('RGBA')\n",
    "#위 방식처럼 rgba방식으로 표현가능"
   ]
  },
  {
   "cell_type": "code",
   "execution_count": null,
   "metadata": {
    "id": "_q_8imGsrENf"
   },
   "outputs": [],
   "source": []
  },
  {
   "cell_type": "code",
   "execution_count": 25,
   "metadata": {
    "executionInfo": {
     "elapsed": 261,
     "status": "ok",
     "timestamp": 1701448519655,
     "user": {
      "displayName": "윤 이상",
      "userId": "05321719341467468761"
     },
     "user_tz": -540
    },
    "id": "YK4lf5jEjuy_"
   },
   "outputs": [],
   "source": [
    "from sklearn.model_selection import StratifiedKFold\n",
    "\n",
    "cv = StratifiedKFold(n_splits = 5, shuffle = True, random_state = 602)"
   ]
  },
  {
   "cell_type": "code",
   "execution_count": 26,
   "metadata": {
    "executionInfo": {
     "elapsed": 391,
     "status": "ok",
     "timestamp": 1701448520410,
     "user": {
      "displayName": "윤 이상",
      "userId": "05321719341467468761"
     },
     "user_tz": -540
    },
    "id": "ocrtlBRW2NLP"
   },
   "outputs": [],
   "source": [
    "device = torch.device(\"cuda:0\" if torch.cuda.is_available() else \"cpu\")"
   ]
  },
  {
   "cell_type": "code",
   "execution_count": null,
   "metadata": {
    "id": "33JfwrYQLbwO"
   },
   "outputs": [],
   "source": []
  },
  {
   "cell_type": "code",
   "execution_count": 27,
   "metadata": {
    "executionInfo": {
     "elapsed": 364,
     "status": "ok",
     "timestamp": 1701448521057,
     "user": {
      "displayName": "윤 이상",
      "userId": "05321719341467468761"
     },
     "user_tz": -540
    },
    "id": "HEgrkHG3MQ9f"
   },
   "outputs": [],
   "source": [
    "df_cv_data = pd.DataFrame(cv_data)\n",
    "df_new_data = pd.DataFrame(new_data)"
   ]
  },
  {
   "cell_type": "code",
   "execution_count": 28,
   "metadata": {
    "executionInfo": {
     "elapsed": 2,
     "status": "ok",
     "timestamp": 1701448521340,
     "user": {
      "displayName": "윤 이상",
      "userId": "05321719341467468761"
     },
     "user_tz": -540
    },
    "id": "KEMHCbwvMem4"
   },
   "outputs": [],
   "source": [
    "list_train_idx = []\n",
    "list_test_idx = []\n",
    "\n",
    "for train_idx, test_idx in cv.split(df_cv_data[1], df_cv_data[2]):\n",
    "  list_train_idx.append(train_idx)\n",
    "  list_test_idx.append(test_idx)"
   ]
  },
  {
   "cell_type": "code",
   "execution_count": null,
   "metadata": {
    "id": "5_gR0_zvqPZ4"
   },
   "outputs": [
    {
     "name": "stderr",
     "output_type": "stream",
     "text": [
      "100%|██████████| 360/360 [01:51<00:00,  3.23it/s]\n"
     ]
    },
    {
     "name": "stdout",
     "output_type": "stream",
     "text": [
      "fold 1,  epoch 01 -------------------------------------------------- \n",
      "\n",
      "            train_accuracy: 0.20885, train_loss: 1.78785, val_accuracy: 0.27153, val_loss: 1.78062 \n",
      "\n",
      "\n"
     ]
    },
    {
     "name": "stderr",
     "output_type": "stream",
     "text": [
      "100%|██████████| 360/360 [01:56<00:00,  3.08it/s]\n"
     ]
    },
    {
     "name": "stdout",
     "output_type": "stream",
     "text": [
      "fold 1,  epoch 02 -------------------------------------------------- \n",
      "\n",
      "            train_accuracy: 0.28611, train_loss: 1.77270, val_accuracy: 0.26875, val_loss: 1.76238 \n",
      "\n",
      "\n"
     ]
    },
    {
     "name": "stderr",
     "output_type": "stream",
     "text": [
      "100%|██████████| 360/360 [01:57<00:00,  3.08it/s]\n"
     ]
    },
    {
     "name": "stdout",
     "output_type": "stream",
     "text": [
      "fold 1,  epoch 03 -------------------------------------------------- \n",
      "\n",
      "            train_accuracy: 0.29288, train_loss: 1.74775, val_accuracy: 0.26944, val_loss: 1.73940 \n",
      "\n",
      "\n"
     ]
    },
    {
     "name": "stderr",
     "output_type": "stream",
     "text": [
      "100%|██████████| 360/360 [01:35<00:00,  3.75it/s]\n"
     ]
    },
    {
     "name": "stdout",
     "output_type": "stream",
     "text": [
      "fold 1,  epoch 04 -------------------------------------------------- \n",
      "\n",
      "            train_accuracy: 0.29896, train_loss: 1.72441, val_accuracy: 0.28958, val_loss: 1.72306 \n",
      "\n",
      "\n"
     ]
    },
    {
     "name": "stderr",
     "output_type": "stream",
     "text": [
      "100%|██████████| 360/360 [01:28<00:00,  4.05it/s]\n"
     ]
    },
    {
     "name": "stdout",
     "output_type": "stream",
     "text": [
      "fold 1,  epoch 05 -------------------------------------------------- \n",
      "\n",
      "            train_accuracy: 0.32674, train_loss: 1.70813, val_accuracy: 0.30764, val_loss: 1.70959 \n",
      "\n",
      "\n"
     ]
    },
    {
     "name": "stderr",
     "output_type": "stream",
     "text": [
      "100%|██████████| 360/360 [01:29<00:00,  4.03it/s]\n"
     ]
    },
    {
     "name": "stdout",
     "output_type": "stream",
     "text": [
      "fold 1,  epoch 06 -------------------------------------------------- \n",
      "\n",
      "            train_accuracy: 0.33802, train_loss: 1.69198, val_accuracy: 0.31806, val_loss: 1.69901 \n",
      "\n",
      "\n"
     ]
    },
    {
     "name": "stderr",
     "output_type": "stream",
     "text": [
      "100%|██████████| 360/360 [01:31<00:00,  3.94it/s]\n"
     ]
    },
    {
     "name": "stdout",
     "output_type": "stream",
     "text": [
      "fold 1,  epoch 07 -------------------------------------------------- \n",
      "\n",
      "            train_accuracy: 0.36354, train_loss: 1.67356, val_accuracy: 0.33958, val_loss: 1.68526 \n",
      "\n",
      "\n"
     ]
    },
    {
     "name": "stderr",
     "output_type": "stream",
     "text": [
      "100%|██████████| 360/360 [01:35<00:00,  3.75it/s]\n"
     ]
    },
    {
     "name": "stdout",
     "output_type": "stream",
     "text": [
      "fold 1,  epoch 08 -------------------------------------------------- \n",
      "\n",
      "            train_accuracy: 0.37760, train_loss: 1.66141, val_accuracy: 0.35764, val_loss: 1.67047 \n",
      "\n",
      "\n"
     ]
    },
    {
     "name": "stderr",
     "output_type": "stream",
     "text": [
      " 94%|█████████▎| 337/360 [02:01<00:09,  2.42it/s]"
     ]
    }
   ],
   "source": [
    "max_epoch = 20   ### 에포크 수정 ###\n",
    "\n",
    "fold = 0\n",
    "\n",
    "list_test_history = []\n",
    "\n",
    "for train_idx, test_idx in zip(list_train_idx, list_test_idx):\n",
    "  fold += 1\n",
    "\n",
    "\n",
    "  # 모델 초기화\n",
    "  mobilenetv2 = models.mobilenet_v2(pretrained = 'IMAGENET1K_V2')\n",
    "  model = ImageModel(mobilenetv2)\n",
    "\n",
    "  if torch.cuda.is_available():\n",
    "    model.cuda()\n",
    "\n",
    "\n",
    "  train_data = [cv_data[i] for i in train_idx]\n",
    "  test_data = [cv_data[i] for i in test_idx]\n",
    "\n",
    "  train_dataset = RoBaMFImageDataset(dataset = train_data, img_idx = 1, label_idx = 2, transform = train_transform)\n",
    "  test_dataset = RoBaMFImageDataset(dataset = test_data, img_idx = 1, label_idx = 2, transform = test_transform)\n",
    "\n",
    "  train_loader = DataLoader(train_dataset, batch_size = 16, shuffle = True)\n",
    "  test_loader = DataLoader(test_dataset, batch_size = 16, shuffle = True)\n",
    "\n",
    "\n",
    "  optimizer = optim.SGD(model.parameters(), lr = 1.66 * 1e-3)\n",
    "  scheduler = ReduceLROnPlateau(optimizer, mode = 'min', patience = 3, factor = 0.3)\n",
    "  loss_fn = nn.CrossEntropyLoss()\n",
    "\n",
    "\n",
    "  test_history = []\n",
    "  for epoch in range(max_epoch):\n",
    "\n",
    "    # 각 에포크별 모형 훈련 -> train accuracy와 손실함수 반환\n",
    "    train_accuracy, train_loss = model_train(model, train_loader, loss_fn, optimizer, device)\n",
    "\n",
    "    # 시험 데이터에 모형 적합 -> valiation accuray와 손실함수 반환\n",
    "    val_accuracy, val_loss = model_evaluate(model, test_loader, loss_fn, device)\n",
    "\n",
    "    scheduler.step(train_loss)\n",
    "\n",
    "    test_history.append(val_accuracy)\n",
    "\n",
    "    print(f'''fold {fold:d},  epoch {epoch + 1:02d} -------------------------------------------------- \\n\n",
    "            train_accuracy: {train_accuracy:.5f}, train_loss: {train_loss:.5f}, val_accuracy: {val_accuracy:.5f}, val_loss: {val_loss:.5f} \\n\\n''')\n",
    "\n",
    "  print(f'''=========================================================================== \\n\n",
    "              fold {fold:d}  Ended.  \\n\n",
    "              =========================================================================== \\n ''')\n",
    "\n",
    "\n",
    "  # 모형 가중치 저장\n",
    "  torch.save(model.state_dict(), f'Machine Learning/Model Weights/ImageWeight{fold}.pth')\n",
    "\n",
    "  list_test_history.append(test_history)\n"
   ]
  },
  {
   "cell_type": "code",
   "execution_count": null,
   "metadata": {
    "id": "35stFqX6NkNS"
   },
   "outputs": [],
   "source": [
    "df_test_history = pd.DataFrame(list_test_history)\n",
    "df_test_history.to_csv('Machine Learning/Baseline CVs/Image Baseline.csv')"
   ]
  },
  {
   "cell_type": "code",
   "execution_count": null,
   "metadata": {
    "id": "bf7J8DlUNpNZ"
   },
   "outputs": [],
   "source": []
  },
  {
   "cell_type": "markdown",
   "metadata": {
    "id": "t40rjwPZNqS1"
   },
   "source": [
    "New Data Prediction"
   ]
  },
  {
   "cell_type": "code",
   "execution_count": 55,
   "metadata": {
    "colab": {
     "base_uri": "https://localhost:8080/"
    },
    "executionInfo": {
     "elapsed": 286,
     "status": "ok",
     "timestamp": 1701448167585,
     "user": {
      "displayName": "윤 이상",
      "userId": "05321719341467468761"
     },
     "user_tz": -540
    },
    "id": "X2GMbgSREOxT",
    "outputId": "fdba3689-c261-4a3c-fd48-c9dc4c6aa0f5"
   },
   "outputs": [
    {
     "data": {
      "text/plain": [
       "['/content/drive/MyDrive/NaverNews/politics/politics9.jpg', 0]"
      ]
     },
     "execution_count": 55,
     "metadata": {},
     "output_type": "execute_result"
    }
   ],
   "source": [
    "new_data[1]"
   ]
  },
  {
   "cell_type": "code",
   "execution_count": 65,
   "metadata": {
    "colab": {
     "base_uri": "https://localhost:8080/",
     "height": 471
    },
    "executionInfo": {
     "elapsed": 3021,
     "status": "error",
     "timestamp": 1701448527082,
     "user": {
      "displayName": "윤 이상",
      "userId": "05321719341467468761"
     },
     "user_tz": -540
    },
    "id": "tNUv_ecpECIp",
    "outputId": "cb3e0fee-e050-4e52-c007-4074b6ee9506"
   },
   "outputs": [
    {
     "name": "stderr",
     "output_type": "stream",
     "text": [
      "  0%|          | 0/450 [00:02<?, ?it/s]\n"
     ]
    },
    {
     "ename": "FileNotFoundError",
     "evalue": "ignored",
     "output_type": "error",
     "traceback": [
      "\u001b[0;31m---------------------------------------------------------------------------\u001b[0m",
      "\u001b[0;31mFileNotFoundError\u001b[0m                         Traceback (most recent call last)",
      "\u001b[0;32m<ipython-input-65-d440285227fe>\u001b[0m in \u001b[0;36m<cell line: 32>\u001b[0;34m()\u001b[0m\n\u001b[1;32m     33\u001b[0m \u001b[0;34m\u001b[0m\u001b[0m\n\u001b[1;32m     34\u001b[0m   \u001b[0;31m# 각 에포크별 모형 훈련 -> train accuracy와 손실함수 반환\u001b[0m\u001b[0;34m\u001b[0m\u001b[0;34m\u001b[0m\u001b[0m\n\u001b[0;32m---> 35\u001b[0;31m   \u001b[0mtrain_accuracy\u001b[0m\u001b[0;34m,\u001b[0m \u001b[0mtrain_loss\u001b[0m \u001b[0;34m=\u001b[0m \u001b[0mmodel_train\u001b[0m\u001b[0;34m(\u001b[0m\u001b[0mmodel\u001b[0m\u001b[0;34m,\u001b[0m \u001b[0mtrain_loader\u001b[0m\u001b[0;34m,\u001b[0m \u001b[0mloss_fn\u001b[0m\u001b[0;34m,\u001b[0m \u001b[0moptimizer\u001b[0m\u001b[0;34m,\u001b[0m \u001b[0mdevice\u001b[0m\u001b[0;34m)\u001b[0m\u001b[0;34m\u001b[0m\u001b[0;34m\u001b[0m\u001b[0m\n\u001b[0m\u001b[1;32m     36\u001b[0m \u001b[0;34m\u001b[0m\u001b[0m\n\u001b[1;32m     37\u001b[0m   \u001b[0;31m# 시험 데이터에 모형 적합 -> valiation accuray와 손실함수 반환\u001b[0m\u001b[0;34m\u001b[0m\u001b[0;34m\u001b[0m\u001b[0m\n",
      "\u001b[0;32m<ipython-input-59-870ce12fe3e9>\u001b[0m in \u001b[0;36mmodel_train\u001b[0;34m(model, data_loader, loss_fn, optimizer, device)\u001b[0m\n\u001b[1;32m     11\u001b[0m   \u001b[0mrunning_loss\u001b[0m \u001b[0;34m=\u001b[0m \u001b[0;36m0\u001b[0m\u001b[0;34m\u001b[0m\u001b[0;34m\u001b[0m\u001b[0m\n\u001b[1;32m     12\u001b[0m \u001b[0;34m\u001b[0m\u001b[0m\n\u001b[0;32m---> 13\u001b[0;31m   \u001b[0;32mfor\u001b[0m \u001b[0mX\u001b[0m\u001b[0;34m,\u001b[0m \u001b[0my\u001b[0m \u001b[0;32min\u001b[0m \u001b[0mprogress_bar\u001b[0m\u001b[0;34m:\u001b[0m\u001b[0;34m\u001b[0m\u001b[0;34m\u001b[0m\u001b[0m\n\u001b[0m\u001b[1;32m     14\u001b[0m     \u001b[0mX\u001b[0m\u001b[0;34m,\u001b[0m \u001b[0my\u001b[0m \u001b[0;34m=\u001b[0m \u001b[0mX\u001b[0m\u001b[0;34m.\u001b[0m\u001b[0mto\u001b[0m\u001b[0;34m(\u001b[0m\u001b[0mdevice\u001b[0m\u001b[0;34m)\u001b[0m\u001b[0;34m,\u001b[0m \u001b[0my\u001b[0m\u001b[0;34m.\u001b[0m\u001b[0mlong\u001b[0m\u001b[0;34m(\u001b[0m\u001b[0;34m)\u001b[0m\u001b[0;34m.\u001b[0m\u001b[0mto\u001b[0m\u001b[0;34m(\u001b[0m\u001b[0mdevice\u001b[0m\u001b[0;34m)\u001b[0m\u001b[0;34m\u001b[0m\u001b[0;34m\u001b[0m\u001b[0m\n\u001b[1;32m     15\u001b[0m \u001b[0;34m\u001b[0m\u001b[0m\n",
      "\u001b[0;32m/usr/local/lib/python3.10/dist-packages/tqdm/std.py\u001b[0m in \u001b[0;36m__iter__\u001b[0;34m(self)\u001b[0m\n\u001b[1;32m   1180\u001b[0m \u001b[0;34m\u001b[0m\u001b[0m\n\u001b[1;32m   1181\u001b[0m         \u001b[0;32mtry\u001b[0m\u001b[0;34m:\u001b[0m\u001b[0;34m\u001b[0m\u001b[0;34m\u001b[0m\u001b[0m\n\u001b[0;32m-> 1182\u001b[0;31m             \u001b[0;32mfor\u001b[0m \u001b[0mobj\u001b[0m \u001b[0;32min\u001b[0m \u001b[0miterable\u001b[0m\u001b[0;34m:\u001b[0m\u001b[0;34m\u001b[0m\u001b[0;34m\u001b[0m\u001b[0m\n\u001b[0m\u001b[1;32m   1183\u001b[0m                 \u001b[0;32myield\u001b[0m \u001b[0mobj\u001b[0m\u001b[0;34m\u001b[0m\u001b[0;34m\u001b[0m\u001b[0m\n\u001b[1;32m   1184\u001b[0m                 \u001b[0;31m# Update and possibly print the progressbar.\u001b[0m\u001b[0;34m\u001b[0m\u001b[0;34m\u001b[0m\u001b[0m\n",
      "\u001b[0;32m/usr/local/lib/python3.10/dist-packages/torch/utils/data/dataloader.py\u001b[0m in \u001b[0;36m__next__\u001b[0;34m(self)\u001b[0m\n\u001b[1;32m    628\u001b[0m                 \u001b[0;31m# TODO(https://github.com/pytorch/pytorch/issues/76750)\u001b[0m\u001b[0;34m\u001b[0m\u001b[0;34m\u001b[0m\u001b[0m\n\u001b[1;32m    629\u001b[0m                 \u001b[0mself\u001b[0m\u001b[0;34m.\u001b[0m\u001b[0m_reset\u001b[0m\u001b[0;34m(\u001b[0m\u001b[0;34m)\u001b[0m  \u001b[0;31m# type: ignore[call-arg]\u001b[0m\u001b[0;34m\u001b[0m\u001b[0;34m\u001b[0m\u001b[0m\n\u001b[0;32m--> 630\u001b[0;31m             \u001b[0mdata\u001b[0m \u001b[0;34m=\u001b[0m \u001b[0mself\u001b[0m\u001b[0;34m.\u001b[0m\u001b[0m_next_data\u001b[0m\u001b[0;34m(\u001b[0m\u001b[0;34m)\u001b[0m\u001b[0;34m\u001b[0m\u001b[0;34m\u001b[0m\u001b[0m\n\u001b[0m\u001b[1;32m    631\u001b[0m             \u001b[0mself\u001b[0m\u001b[0;34m.\u001b[0m\u001b[0m_num_yielded\u001b[0m \u001b[0;34m+=\u001b[0m \u001b[0;36m1\u001b[0m\u001b[0;34m\u001b[0m\u001b[0;34m\u001b[0m\u001b[0m\n\u001b[1;32m    632\u001b[0m             \u001b[0;32mif\u001b[0m \u001b[0mself\u001b[0m\u001b[0;34m.\u001b[0m\u001b[0m_dataset_kind\u001b[0m \u001b[0;34m==\u001b[0m \u001b[0m_DatasetKind\u001b[0m\u001b[0;34m.\u001b[0m\u001b[0mIterable\u001b[0m \u001b[0;32mand\u001b[0m\u001b[0;31m \u001b[0m\u001b[0;31m\\\u001b[0m\u001b[0;34m\u001b[0m\u001b[0;34m\u001b[0m\u001b[0m\n",
      "\u001b[0;32m/usr/local/lib/python3.10/dist-packages/torch/utils/data/dataloader.py\u001b[0m in \u001b[0;36m_next_data\u001b[0;34m(self)\u001b[0m\n\u001b[1;32m    672\u001b[0m     \u001b[0;32mdef\u001b[0m \u001b[0m_next_data\u001b[0m\u001b[0;34m(\u001b[0m\u001b[0mself\u001b[0m\u001b[0;34m)\u001b[0m\u001b[0;34m:\u001b[0m\u001b[0;34m\u001b[0m\u001b[0;34m\u001b[0m\u001b[0m\n\u001b[1;32m    673\u001b[0m         \u001b[0mindex\u001b[0m \u001b[0;34m=\u001b[0m \u001b[0mself\u001b[0m\u001b[0;34m.\u001b[0m\u001b[0m_next_index\u001b[0m\u001b[0;34m(\u001b[0m\u001b[0;34m)\u001b[0m  \u001b[0;31m# may raise StopIteration\u001b[0m\u001b[0;34m\u001b[0m\u001b[0;34m\u001b[0m\u001b[0m\n\u001b[0;32m--> 674\u001b[0;31m         \u001b[0mdata\u001b[0m \u001b[0;34m=\u001b[0m \u001b[0mself\u001b[0m\u001b[0;34m.\u001b[0m\u001b[0m_dataset_fetcher\u001b[0m\u001b[0;34m.\u001b[0m\u001b[0mfetch\u001b[0m\u001b[0;34m(\u001b[0m\u001b[0mindex\u001b[0m\u001b[0;34m)\u001b[0m  \u001b[0;31m# may raise StopIteration\u001b[0m\u001b[0;34m\u001b[0m\u001b[0;34m\u001b[0m\u001b[0m\n\u001b[0m\u001b[1;32m    675\u001b[0m         \u001b[0;32mif\u001b[0m \u001b[0mself\u001b[0m\u001b[0;34m.\u001b[0m\u001b[0m_pin_memory\u001b[0m\u001b[0;34m:\u001b[0m\u001b[0;34m\u001b[0m\u001b[0;34m\u001b[0m\u001b[0m\n\u001b[1;32m    676\u001b[0m             \u001b[0mdata\u001b[0m \u001b[0;34m=\u001b[0m \u001b[0m_utils\u001b[0m\u001b[0;34m.\u001b[0m\u001b[0mpin_memory\u001b[0m\u001b[0;34m.\u001b[0m\u001b[0mpin_memory\u001b[0m\u001b[0;34m(\u001b[0m\u001b[0mdata\u001b[0m\u001b[0;34m,\u001b[0m \u001b[0mself\u001b[0m\u001b[0;34m.\u001b[0m\u001b[0m_pin_memory_device\u001b[0m\u001b[0;34m)\u001b[0m\u001b[0;34m\u001b[0m\u001b[0;34m\u001b[0m\u001b[0m\n",
      "\u001b[0;32m/usr/local/lib/python3.10/dist-packages/torch/utils/data/_utils/fetch.py\u001b[0m in \u001b[0;36mfetch\u001b[0;34m(self, possibly_batched_index)\u001b[0m\n\u001b[1;32m     49\u001b[0m                 \u001b[0mdata\u001b[0m \u001b[0;34m=\u001b[0m \u001b[0mself\u001b[0m\u001b[0;34m.\u001b[0m\u001b[0mdataset\u001b[0m\u001b[0;34m.\u001b[0m\u001b[0m__getitems__\u001b[0m\u001b[0;34m(\u001b[0m\u001b[0mpossibly_batched_index\u001b[0m\u001b[0;34m)\u001b[0m\u001b[0;34m\u001b[0m\u001b[0;34m\u001b[0m\u001b[0m\n\u001b[1;32m     50\u001b[0m             \u001b[0;32melse\u001b[0m\u001b[0;34m:\u001b[0m\u001b[0;34m\u001b[0m\u001b[0;34m\u001b[0m\u001b[0m\n\u001b[0;32m---> 51\u001b[0;31m                 \u001b[0mdata\u001b[0m \u001b[0;34m=\u001b[0m \u001b[0;34m[\u001b[0m\u001b[0mself\u001b[0m\u001b[0;34m.\u001b[0m\u001b[0mdataset\u001b[0m\u001b[0;34m[\u001b[0m\u001b[0midx\u001b[0m\u001b[0;34m]\u001b[0m \u001b[0;32mfor\u001b[0m \u001b[0midx\u001b[0m \u001b[0;32min\u001b[0m \u001b[0mpossibly_batched_index\u001b[0m\u001b[0;34m]\u001b[0m\u001b[0;34m\u001b[0m\u001b[0;34m\u001b[0m\u001b[0m\n\u001b[0m\u001b[1;32m     52\u001b[0m         \u001b[0;32melse\u001b[0m\u001b[0;34m:\u001b[0m\u001b[0;34m\u001b[0m\u001b[0;34m\u001b[0m\u001b[0m\n\u001b[1;32m     53\u001b[0m             \u001b[0mdata\u001b[0m \u001b[0;34m=\u001b[0m \u001b[0mself\u001b[0m\u001b[0;34m.\u001b[0m\u001b[0mdataset\u001b[0m\u001b[0;34m[\u001b[0m\u001b[0mpossibly_batched_index\u001b[0m\u001b[0;34m]\u001b[0m\u001b[0;34m\u001b[0m\u001b[0;34m\u001b[0m\u001b[0m\n",
      "\u001b[0;32m/usr/local/lib/python3.10/dist-packages/torch/utils/data/_utils/fetch.py\u001b[0m in \u001b[0;36m<listcomp>\u001b[0;34m(.0)\u001b[0m\n\u001b[1;32m     49\u001b[0m                 \u001b[0mdata\u001b[0m \u001b[0;34m=\u001b[0m \u001b[0mself\u001b[0m\u001b[0;34m.\u001b[0m\u001b[0mdataset\u001b[0m\u001b[0;34m.\u001b[0m\u001b[0m__getitems__\u001b[0m\u001b[0;34m(\u001b[0m\u001b[0mpossibly_batched_index\u001b[0m\u001b[0;34m)\u001b[0m\u001b[0;34m\u001b[0m\u001b[0;34m\u001b[0m\u001b[0m\n\u001b[1;32m     50\u001b[0m             \u001b[0;32melse\u001b[0m\u001b[0;34m:\u001b[0m\u001b[0;34m\u001b[0m\u001b[0;34m\u001b[0m\u001b[0m\n\u001b[0;32m---> 51\u001b[0;31m                 \u001b[0mdata\u001b[0m \u001b[0;34m=\u001b[0m \u001b[0;34m[\u001b[0m\u001b[0mself\u001b[0m\u001b[0;34m.\u001b[0m\u001b[0mdataset\u001b[0m\u001b[0;34m[\u001b[0m\u001b[0midx\u001b[0m\u001b[0;34m]\u001b[0m \u001b[0;32mfor\u001b[0m \u001b[0midx\u001b[0m \u001b[0;32min\u001b[0m \u001b[0mpossibly_batched_index\u001b[0m\u001b[0;34m]\u001b[0m\u001b[0;34m\u001b[0m\u001b[0;34m\u001b[0m\u001b[0m\n\u001b[0m\u001b[1;32m     52\u001b[0m         \u001b[0;32melse\u001b[0m\u001b[0;34m:\u001b[0m\u001b[0;34m\u001b[0m\u001b[0;34m\u001b[0m\u001b[0m\n\u001b[1;32m     53\u001b[0m             \u001b[0mdata\u001b[0m \u001b[0;34m=\u001b[0m \u001b[0mself\u001b[0m\u001b[0;34m.\u001b[0m\u001b[0mdataset\u001b[0m\u001b[0;34m[\u001b[0m\u001b[0mpossibly_batched_index\u001b[0m\u001b[0;34m]\u001b[0m\u001b[0;34m\u001b[0m\u001b[0;34m\u001b[0m\u001b[0m\n",
      "\u001b[0;32m<ipython-input-53-6afe50c34f24>\u001b[0m in \u001b[0;36m__getitem__\u001b[0;34m(self, idx)\u001b[0m\n\u001b[1;32m     18\u001b[0m     \u001b[0mimgpath\u001b[0m \u001b[0;34m=\u001b[0m \u001b[0mself\u001b[0m\u001b[0;34m.\u001b[0m\u001b[0mimgpaths\u001b[0m\u001b[0;34m[\u001b[0m\u001b[0midx\u001b[0m\u001b[0;34m]\u001b[0m\u001b[0;34m\u001b[0m\u001b[0;34m\u001b[0m\u001b[0m\n\u001b[1;32m     19\u001b[0m \u001b[0;34m\u001b[0m\u001b[0m\n\u001b[0;32m---> 20\u001b[0;31m     \u001b[0mimg\u001b[0m \u001b[0;34m=\u001b[0m \u001b[0mImage\u001b[0m\u001b[0;34m.\u001b[0m\u001b[0mopen\u001b[0m\u001b[0;34m(\u001b[0m\u001b[0mimgpath\u001b[0m\u001b[0;34m)\u001b[0m\u001b[0;34m.\u001b[0m\u001b[0mconvert\u001b[0m\u001b[0;34m(\u001b[0m\u001b[0;34m'RGB'\u001b[0m\u001b[0;34m)\u001b[0m\u001b[0;34m\u001b[0m\u001b[0;34m\u001b[0m\u001b[0m\n\u001b[0m\u001b[1;32m     21\u001b[0m     \u001b[0mimg\u001b[0m \u001b[0;34m=\u001b[0m \u001b[0mself\u001b[0m\u001b[0;34m.\u001b[0m\u001b[0mtransform\u001b[0m\u001b[0;34m(\u001b[0m\u001b[0mimg\u001b[0m\u001b[0;34m)\u001b[0m\u001b[0;34m\u001b[0m\u001b[0;34m\u001b[0m\u001b[0m\n\u001b[1;32m     22\u001b[0m \u001b[0;34m\u001b[0m\u001b[0m\n",
      "\u001b[0;32m/usr/local/lib/python3.10/dist-packages/PIL/Image.py\u001b[0m in \u001b[0;36mopen\u001b[0;34m(fp, mode, formats)\u001b[0m\n\u001b[1;32m   3225\u001b[0m \u001b[0;34m\u001b[0m\u001b[0m\n\u001b[1;32m   3226\u001b[0m     \u001b[0;32mif\u001b[0m \u001b[0mfilename\u001b[0m\u001b[0;34m:\u001b[0m\u001b[0;34m\u001b[0m\u001b[0;34m\u001b[0m\u001b[0m\n\u001b[0;32m-> 3227\u001b[0;31m         \u001b[0mfp\u001b[0m \u001b[0;34m=\u001b[0m \u001b[0mbuiltins\u001b[0m\u001b[0;34m.\u001b[0m\u001b[0mopen\u001b[0m\u001b[0;34m(\u001b[0m\u001b[0mfilename\u001b[0m\u001b[0;34m,\u001b[0m \u001b[0;34m\"rb\"\u001b[0m\u001b[0;34m)\u001b[0m\u001b[0;34m\u001b[0m\u001b[0;34m\u001b[0m\u001b[0m\n\u001b[0m\u001b[1;32m   3228\u001b[0m         \u001b[0mexclusive_fp\u001b[0m \u001b[0;34m=\u001b[0m \u001b[0;32mTrue\u001b[0m\u001b[0;34m\u001b[0m\u001b[0;34m\u001b[0m\u001b[0m\n\u001b[1;32m   3229\u001b[0m \u001b[0;34m\u001b[0m\u001b[0m\n",
      "\u001b[0;31mFileNotFoundError\u001b[0m: [Errno 2] No such file or directory: '/content/drive/MyDrive/NaverNews/economy/economy2514.jpg'"
     ]
    }
   ],
   "source": [
    "max_epoch = 5   ### 에포크 수정 ###\n",
    "\n",
    "# 모델 초기화\n",
    "mobilenetv2 = models.mobilenet_v2(weights = 'DEFAULT')\n",
    "model = ImageModel(mobilenetv2)\n",
    "\n",
    "for i, (name, param) in enumerate(model.named_parameters()):\n",
    "  param.requires_grad = False\n",
    "  if i == 155:\n",
    "    break\n",
    "\n",
    "if torch.cuda.is_available():\n",
    "  model.cuda()\n",
    "\n",
    "\n",
    "train_data = cv_data\n",
    "test_data = new_data\n",
    "\n",
    "train_dataset = RoBaMFImageDataset(dataset = train_data, img_idx = 1, label_idx = 2, transform = train_transform)\n",
    "test_dataset = RoBaMFImageDataset(dataset = test_data, img_idx = 1, label_idx = 2, transform = test_transform)\n",
    "\n",
    "train_loader = DataLoader(train_dataset, batch_size = 16, shuffle = True)\n",
    "test_loader = DataLoader(test_dataset, batch_size = 16, shuffle = True)\n",
    "\n",
    "\n",
    "optimizer = optim.Adam(model.parameters(), lr = 0.2)\n",
    "scheduler = ReduceLROnPlateau(optimizer, mode = 'min', patience = 3, factor = 0.3)\n",
    "loss_fn = nn.CrossEntropyLoss()\n",
    "\n",
    "\n",
    "test_history = []\n",
    "for epoch in range(max_epoch):\n",
    "\n",
    "  # 각 에포크별 모형 훈련 -> train accuracy와 손실함수 반환\n",
    "  train_accuracy, train_loss = model_train(model, train_loader, loss_fn, optimizer, device)\n",
    "\n",
    "  # 시험 데이터에 모형 적합 -> valiation accuray와 손실함수 반환\n",
    "  val_accuracy, val_loss = model_evaluate(model, test_loader, loss_fn, device)\n",
    "\n",
    "  scheduler.step(train_loss)\n",
    "\n",
    "  test_history.append(val_accuracy)\n",
    "\n",
    "  print(f'''epoch {epoch + 1:02d} -------------------------------------------------- \\n\n",
    "          train_accuracy: {train_accuracy:.5f}, train_loss: {train_loss:.5f}, val_accuracy: {val_accuracy:.5f}, val_loss: {val_loss:.5f} \\n\\n''')\n",
    "\n"
   ]
  }
 ],
 "metadata": {
  "accelerator": "GPU",
  "colab": {
   "gpuType": "T4",
   "provenance": []
  },
  "kernelspec": {
   "display_name": "Python 3 (ipykernel)",
   "language": "python",
   "name": "python3"
  },
  "language_info": {
   "codemirror_mode": {
    "name": "ipython",
    "version": 3
   },
   "file_extension": ".py",
   "mimetype": "text/x-python",
   "name": "python",
   "nbconvert_exporter": "python",
   "pygments_lexer": "ipython3",
   "version": "3.8.10"
  }
 },
 "nbformat": 4,
 "nbformat_minor": 4
}
